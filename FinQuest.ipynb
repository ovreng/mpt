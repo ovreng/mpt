{
 "cells": [
  {
   "cell_type": "code",
   "execution_count": 3,
   "metadata": {},
   "outputs": [],
   "source": [
    "import quandl\n",
    "quandl.ApiConfig.api_key = \"AkvsAjUV5KnZahNpFyMw\"\n",
    "import numpy as np\n",
    "import pandas as pd\n",
    "import seaborn as sns"
   ]
  },
  {
   "cell_type": "code",
   "execution_count": 4,
   "metadata": {},
   "outputs": [
    {
     "data": {
      "text/html": [
       "<div>\n",
       "<style scoped>\n",
       "    .dataframe tbody tr th:only-of-type {\n",
       "        vertical-align: middle;\n",
       "    }\n",
       "\n",
       "    .dataframe tbody tr th {\n",
       "        vertical-align: top;\n",
       "    }\n",
       "\n",
       "    .dataframe thead th {\n",
       "        text-align: right;\n",
       "    }\n",
       "</style>\n",
       "<table border=\"1\" class=\"dataframe\">\n",
       "  <thead>\n",
       "    <tr style=\"text-align: right;\">\n",
       "      <th></th>\n",
       "      <th>ticker</th>\n",
       "      <th>date</th>\n",
       "      <th>open</th>\n",
       "      <th>high</th>\n",
       "      <th>low</th>\n",
       "      <th>close</th>\n",
       "      <th>volume</th>\n",
       "      <th>dividends</th>\n",
       "      <th>closeunadj</th>\n",
       "      <th>lastupdated</th>\n",
       "    </tr>\n",
       "    <tr>\n",
       "      <th>None</th>\n",
       "      <th></th>\n",
       "      <th></th>\n",
       "      <th></th>\n",
       "      <th></th>\n",
       "      <th></th>\n",
       "      <th></th>\n",
       "      <th></th>\n",
       "      <th></th>\n",
       "      <th></th>\n",
       "      <th></th>\n",
       "    </tr>\n",
       "  </thead>\n",
       "  <tbody>\n",
       "    <tr>\n",
       "      <th>0</th>\n",
       "      <td>XOM</td>\n",
       "      <td>2018-12-31</td>\n",
       "      <td>68.320</td>\n",
       "      <td>69.145</td>\n",
       "      <td>67.660</td>\n",
       "      <td>68.190</td>\n",
       "      <td>15807007.0</td>\n",
       "      <td>0.0</td>\n",
       "      <td>68.19</td>\n",
       "      <td>2020-05-01</td>\n",
       "    </tr>\n",
       "    <tr>\n",
       "      <th>1</th>\n",
       "      <td>XOM</td>\n",
       "      <td>2018-12-28</td>\n",
       "      <td>69.180</td>\n",
       "      <td>69.580</td>\n",
       "      <td>67.820</td>\n",
       "      <td>68.170</td>\n",
       "      <td>19706697.0</td>\n",
       "      <td>0.0</td>\n",
       "      <td>68.17</td>\n",
       "      <td>2020-05-01</td>\n",
       "    </tr>\n",
       "    <tr>\n",
       "      <th>2</th>\n",
       "      <td>XOM</td>\n",
       "      <td>2018-12-27</td>\n",
       "      <td>67.740</td>\n",
       "      <td>68.940</td>\n",
       "      <td>66.080</td>\n",
       "      <td>68.940</td>\n",
       "      <td>22077044.0</td>\n",
       "      <td>0.0</td>\n",
       "      <td>68.94</td>\n",
       "      <td>2020-05-01</td>\n",
       "    </tr>\n",
       "    <tr>\n",
       "      <th>3</th>\n",
       "      <td>XOM</td>\n",
       "      <td>2018-12-26</td>\n",
       "      <td>66.180</td>\n",
       "      <td>68.655</td>\n",
       "      <td>64.650</td>\n",
       "      <td>68.640</td>\n",
       "      <td>24887738.0</td>\n",
       "      <td>0.0</td>\n",
       "      <td>68.64</td>\n",
       "      <td>2020-05-01</td>\n",
       "    </tr>\n",
       "    <tr>\n",
       "      <th>4</th>\n",
       "      <td>XOM</td>\n",
       "      <td>2018-12-24</td>\n",
       "      <td>66.870</td>\n",
       "      <td>67.530</td>\n",
       "      <td>65.440</td>\n",
       "      <td>65.510</td>\n",
       "      <td>14262825.0</td>\n",
       "      <td>0.0</td>\n",
       "      <td>65.51</td>\n",
       "      <td>2020-05-01</td>\n",
       "    </tr>\n",
       "    <tr>\n",
       "      <th>...</th>\n",
       "      <td>...</td>\n",
       "      <td>...</td>\n",
       "      <td>...</td>\n",
       "      <td>...</td>\n",
       "      <td>...</td>\n",
       "      <td>...</td>\n",
       "      <td>...</td>\n",
       "      <td>...</td>\n",
       "      <td>...</td>\n",
       "      <td>...</td>\n",
       "    </tr>\n",
       "    <tr>\n",
       "      <th>405</th>\n",
       "      <td>AAPL</td>\n",
       "      <td>2018-09-10</td>\n",
       "      <td>55.237</td>\n",
       "      <td>55.462</td>\n",
       "      <td>54.117</td>\n",
       "      <td>54.583</td>\n",
       "      <td>158065812.0</td>\n",
       "      <td>0.0</td>\n",
       "      <td>218.33</td>\n",
       "      <td>2020-08-31</td>\n",
       "    </tr>\n",
       "    <tr>\n",
       "      <th>406</th>\n",
       "      <td>AAPL</td>\n",
       "      <td>2018-09-07</td>\n",
       "      <td>55.462</td>\n",
       "      <td>56.343</td>\n",
       "      <td>55.178</td>\n",
       "      <td>55.325</td>\n",
       "      <td>150479240.0</td>\n",
       "      <td>0.0</td>\n",
       "      <td>221.30</td>\n",
       "      <td>2020-08-31</td>\n",
       "    </tr>\n",
       "    <tr>\n",
       "      <th>407</th>\n",
       "      <td>AAPL</td>\n",
       "      <td>2018-09-06</td>\n",
       "      <td>56.557</td>\n",
       "      <td>56.837</td>\n",
       "      <td>55.325</td>\n",
       "      <td>55.775</td>\n",
       "      <td>137159904.0</td>\n",
       "      <td>0.0</td>\n",
       "      <td>223.10</td>\n",
       "      <td>2020-08-31</td>\n",
       "    </tr>\n",
       "    <tr>\n",
       "      <th>408</th>\n",
       "      <td>AAPL</td>\n",
       "      <td>2018-09-05</td>\n",
       "      <td>57.248</td>\n",
       "      <td>57.417</td>\n",
       "      <td>56.275</td>\n",
       "      <td>56.718</td>\n",
       "      <td>133331840.0</td>\n",
       "      <td>0.0</td>\n",
       "      <td>226.87</td>\n",
       "      <td>2020-08-31</td>\n",
       "    </tr>\n",
       "    <tr>\n",
       "      <th>409</th>\n",
       "      <td>AAPL</td>\n",
       "      <td>2018-09-04</td>\n",
       "      <td>57.102</td>\n",
       "      <td>57.295</td>\n",
       "      <td>56.657</td>\n",
       "      <td>57.090</td>\n",
       "      <td>109560528.0</td>\n",
       "      <td>0.0</td>\n",
       "      <td>228.36</td>\n",
       "      <td>2020-08-31</td>\n",
       "    </tr>\n",
       "  </tbody>\n",
       "</table>\n",
       "<p>410 rows × 10 columns</p>\n",
       "</div>"
      ],
      "text/plain": [
       "     ticker       date    open    high     low   close       volume  \\\n",
       "None                                                                  \n",
       "0       XOM 2018-12-31  68.320  69.145  67.660  68.190   15807007.0   \n",
       "1       XOM 2018-12-28  69.180  69.580  67.820  68.170   19706697.0   \n",
       "2       XOM 2018-12-27  67.740  68.940  66.080  68.940   22077044.0   \n",
       "3       XOM 2018-12-26  66.180  68.655  64.650  68.640   24887738.0   \n",
       "4       XOM 2018-12-24  66.870  67.530  65.440  65.510   14262825.0   \n",
       "...     ...        ...     ...     ...     ...     ...          ...   \n",
       "405    AAPL 2018-09-10  55.237  55.462  54.117  54.583  158065812.0   \n",
       "406    AAPL 2018-09-07  55.462  56.343  55.178  55.325  150479240.0   \n",
       "407    AAPL 2018-09-06  56.557  56.837  55.325  55.775  137159904.0   \n",
       "408    AAPL 2018-09-05  57.248  57.417  56.275  56.718  133331840.0   \n",
       "409    AAPL 2018-09-04  57.102  57.295  56.657  57.090  109560528.0   \n",
       "\n",
       "      dividends  closeunadj lastupdated  \n",
       "None                                     \n",
       "0           0.0       68.19  2020-05-01  \n",
       "1           0.0       68.17  2020-05-01  \n",
       "2           0.0       68.94  2020-05-01  \n",
       "3           0.0       68.64  2020-05-01  \n",
       "4           0.0       65.51  2020-05-01  \n",
       "...         ...         ...         ...  \n",
       "405         0.0      218.33  2020-08-31  \n",
       "406         0.0      221.30  2020-08-31  \n",
       "407         0.0      223.10  2020-08-31  \n",
       "408         0.0      226.87  2020-08-31  \n",
       "409         0.0      228.36  2020-08-31  \n",
       "\n",
       "[410 rows x 10 columns]"
      ]
     },
     "execution_count": 4,
     "metadata": {},
     "output_type": "execute_result"
    }
   ],
   "source": [
    "prices = quandl.get_table('SHARADAR/SEP', ticker=['AAPL', 'KO', 'NKE', 'TSLA', 'XOM'], date={'gte':'2017-01-01', 'lte':'2018-12-31'}, paginate=True)\n",
    "prices"
   ]
  },
  {
   "cell_type": "code",
   "execution_count": 5,
   "metadata": {},
   "outputs": [
    {
     "data": {
      "text/html": [
       "<div>\n",
       "<style scoped>\n",
       "    .dataframe tbody tr th:only-of-type {\n",
       "        vertical-align: middle;\n",
       "    }\n",
       "\n",
       "    .dataframe tbody tr th {\n",
       "        vertical-align: top;\n",
       "    }\n",
       "\n",
       "    .dataframe thead th {\n",
       "        text-align: right;\n",
       "    }\n",
       "</style>\n",
       "<table border=\"1\" class=\"dataframe\">\n",
       "  <thead>\n",
       "    <tr style=\"text-align: right;\">\n",
       "      <th>ticker</th>\n",
       "      <th>AAPL</th>\n",
       "      <th>KO</th>\n",
       "      <th>NKE</th>\n",
       "      <th>TSLA</th>\n",
       "      <th>XOM</th>\n",
       "    </tr>\n",
       "    <tr>\n",
       "      <th>date</th>\n",
       "      <th></th>\n",
       "      <th></th>\n",
       "      <th></th>\n",
       "      <th></th>\n",
       "      <th></th>\n",
       "    </tr>\n",
       "  </thead>\n",
       "  <tbody>\n",
       "    <tr>\n",
       "      <th>2018-09-04</th>\n",
       "      <td>57.090</td>\n",
       "      <td>44.76</td>\n",
       "      <td>79.60</td>\n",
       "      <td>57.790</td>\n",
       "      <td>80.29</td>\n",
       "    </tr>\n",
       "    <tr>\n",
       "      <th>2018-09-05</th>\n",
       "      <td>56.718</td>\n",
       "      <td>45.38</td>\n",
       "      <td>79.92</td>\n",
       "      <td>56.148</td>\n",
       "      <td>81.36</td>\n",
       "    </tr>\n",
       "    <tr>\n",
       "      <th>2018-09-06</th>\n",
       "      <td>55.775</td>\n",
       "      <td>45.77</td>\n",
       "      <td>80.40</td>\n",
       "      <td>56.190</td>\n",
       "      <td>80.46</td>\n",
       "    </tr>\n",
       "    <tr>\n",
       "      <th>2018-09-07</th>\n",
       "      <td>55.325</td>\n",
       "      <td>45.72</td>\n",
       "      <td>80.30</td>\n",
       "      <td>52.648</td>\n",
       "      <td>81.83</td>\n",
       "    </tr>\n",
       "    <tr>\n",
       "      <th>2018-09-10</th>\n",
       "      <td>54.583</td>\n",
       "      <td>46.06</td>\n",
       "      <td>82.10</td>\n",
       "      <td>57.100</td>\n",
       "      <td>81.71</td>\n",
       "    </tr>\n",
       "    <tr>\n",
       "      <th>...</th>\n",
       "      <td>...</td>\n",
       "      <td>...</td>\n",
       "      <td>...</td>\n",
       "      <td>...</td>\n",
       "      <td>...</td>\n",
       "    </tr>\n",
       "    <tr>\n",
       "      <th>2018-12-24</th>\n",
       "      <td>36.708</td>\n",
       "      <td>45.96</td>\n",
       "      <td>68.10</td>\n",
       "      <td>59.078</td>\n",
       "      <td>65.51</td>\n",
       "    </tr>\n",
       "    <tr>\n",
       "      <th>2018-12-26</th>\n",
       "      <td>39.292</td>\n",
       "      <td>46.94</td>\n",
       "      <td>73.01</td>\n",
       "      <td>65.218</td>\n",
       "      <td>68.64</td>\n",
       "    </tr>\n",
       "    <tr>\n",
       "      <th>2018-12-27</th>\n",
       "      <td>39.038</td>\n",
       "      <td>47.53</td>\n",
       "      <td>73.67</td>\n",
       "      <td>63.226</td>\n",
       "      <td>68.94</td>\n",
       "    </tr>\n",
       "    <tr>\n",
       "      <th>2018-12-28</th>\n",
       "      <td>39.057</td>\n",
       "      <td>47.20</td>\n",
       "      <td>73.34</td>\n",
       "      <td>66.774</td>\n",
       "      <td>68.17</td>\n",
       "    </tr>\n",
       "    <tr>\n",
       "      <th>2018-12-31</th>\n",
       "      <td>39.435</td>\n",
       "      <td>47.35</td>\n",
       "      <td>74.14</td>\n",
       "      <td>66.560</td>\n",
       "      <td>68.19</td>\n",
       "    </tr>\n",
       "  </tbody>\n",
       "</table>\n",
       "<p>82 rows × 5 columns</p>\n",
       "</div>"
      ],
      "text/plain": [
       "ticker        AAPL     KO    NKE    TSLA    XOM\n",
       "date                                           \n",
       "2018-09-04  57.090  44.76  79.60  57.790  80.29\n",
       "2018-09-05  56.718  45.38  79.92  56.148  81.36\n",
       "2018-09-06  55.775  45.77  80.40  56.190  80.46\n",
       "2018-09-07  55.325  45.72  80.30  52.648  81.83\n",
       "2018-09-10  54.583  46.06  82.10  57.100  81.71\n",
       "...            ...    ...    ...     ...    ...\n",
       "2018-12-24  36.708  45.96  68.10  59.078  65.51\n",
       "2018-12-26  39.292  46.94  73.01  65.218  68.64\n",
       "2018-12-27  39.038  47.53  73.67  63.226  68.94\n",
       "2018-12-28  39.057  47.20  73.34  66.774  68.17\n",
       "2018-12-31  39.435  47.35  74.14  66.560  68.19\n",
       "\n",
       "[82 rows x 5 columns]"
      ]
     },
     "execution_count": 5,
     "metadata": {},
     "output_type": "execute_result"
    }
   ],
   "source": [
    "pivoted = prices.pivot(index = 'date', columns = 'ticker', values = 'close')\n",
    "pivoted"
   ]
  },
  {
   "cell_type": "code",
   "execution_count": 6,
   "metadata": {},
   "outputs": [
    {
     "data": {
      "text/html": [
       "<div>\n",
       "<style scoped>\n",
       "    .dataframe tbody tr th:only-of-type {\n",
       "        vertical-align: middle;\n",
       "    }\n",
       "\n",
       "    .dataframe tbody tr th {\n",
       "        vertical-align: top;\n",
       "    }\n",
       "\n",
       "    .dataframe thead th {\n",
       "        text-align: right;\n",
       "    }\n",
       "</style>\n",
       "<table border=\"1\" class=\"dataframe\">\n",
       "  <thead>\n",
       "    <tr style=\"text-align: right;\">\n",
       "      <th>ticker</th>\n",
       "      <th>AAPL</th>\n",
       "      <th>KO</th>\n",
       "      <th>NKE</th>\n",
       "      <th>TSLA</th>\n",
       "      <th>XOM</th>\n",
       "    </tr>\n",
       "    <tr>\n",
       "      <th>date</th>\n",
       "      <th></th>\n",
       "      <th></th>\n",
       "      <th></th>\n",
       "      <th></th>\n",
       "      <th></th>\n",
       "    </tr>\n",
       "  </thead>\n",
       "  <tbody>\n",
       "    <tr>\n",
       "      <th>2018-09-04</th>\n",
       "      <td>NaN</td>\n",
       "      <td>NaN</td>\n",
       "      <td>NaN</td>\n",
       "      <td>NaN</td>\n",
       "      <td>NaN</td>\n",
       "    </tr>\n",
       "    <tr>\n",
       "      <th>2018-09-05</th>\n",
       "      <td>-0.006516</td>\n",
       "      <td>0.013852</td>\n",
       "      <td>0.004020</td>\n",
       "      <td>-0.028413</td>\n",
       "      <td>0.013327</td>\n",
       "    </tr>\n",
       "    <tr>\n",
       "      <th>2018-09-06</th>\n",
       "      <td>-0.016626</td>\n",
       "      <td>0.008594</td>\n",
       "      <td>0.006006</td>\n",
       "      <td>0.000748</td>\n",
       "      <td>-0.011062</td>\n",
       "    </tr>\n",
       "    <tr>\n",
       "      <th>2018-09-07</th>\n",
       "      <td>-0.008068</td>\n",
       "      <td>-0.001092</td>\n",
       "      <td>-0.001244</td>\n",
       "      <td>-0.063036</td>\n",
       "      <td>0.017027</td>\n",
       "    </tr>\n",
       "    <tr>\n",
       "      <th>2018-09-10</th>\n",
       "      <td>-0.013412</td>\n",
       "      <td>0.007437</td>\n",
       "      <td>0.022416</td>\n",
       "      <td>0.084562</td>\n",
       "      <td>-0.001466</td>\n",
       "    </tr>\n",
       "    <tr>\n",
       "      <th>...</th>\n",
       "      <td>...</td>\n",
       "      <td>...</td>\n",
       "      <td>...</td>\n",
       "      <td>...</td>\n",
       "      <td>...</td>\n",
       "    </tr>\n",
       "    <tr>\n",
       "      <th>2018-12-24</th>\n",
       "      <td>-0.025848</td>\n",
       "      <td>-0.033845</td>\n",
       "      <td>-0.059002</td>\n",
       "      <td>-0.076242</td>\n",
       "      <td>-0.038315</td>\n",
       "    </tr>\n",
       "    <tr>\n",
       "      <th>2018-12-26</th>\n",
       "      <td>0.070393</td>\n",
       "      <td>0.021323</td>\n",
       "      <td>0.072100</td>\n",
       "      <td>0.103930</td>\n",
       "      <td>0.047779</td>\n",
       "    </tr>\n",
       "    <tr>\n",
       "      <th>2018-12-27</th>\n",
       "      <td>-0.006464</td>\n",
       "      <td>0.012569</td>\n",
       "      <td>0.009040</td>\n",
       "      <td>-0.030544</td>\n",
       "      <td>0.004371</td>\n",
       "    </tr>\n",
       "    <tr>\n",
       "      <th>2018-12-28</th>\n",
       "      <td>0.000487</td>\n",
       "      <td>-0.006943</td>\n",
       "      <td>-0.004479</td>\n",
       "      <td>0.056116</td>\n",
       "      <td>-0.011169</td>\n",
       "    </tr>\n",
       "    <tr>\n",
       "      <th>2018-12-31</th>\n",
       "      <td>0.009678</td>\n",
       "      <td>0.003178</td>\n",
       "      <td>0.010908</td>\n",
       "      <td>-0.003205</td>\n",
       "      <td>0.000293</td>\n",
       "    </tr>\n",
       "  </tbody>\n",
       "</table>\n",
       "<p>82 rows × 5 columns</p>\n",
       "</div>"
      ],
      "text/plain": [
       "ticker          AAPL        KO       NKE      TSLA       XOM\n",
       "date                                                        \n",
       "2018-09-04       NaN       NaN       NaN       NaN       NaN\n",
       "2018-09-05 -0.006516  0.013852  0.004020 -0.028413  0.013327\n",
       "2018-09-06 -0.016626  0.008594  0.006006  0.000748 -0.011062\n",
       "2018-09-07 -0.008068 -0.001092 -0.001244 -0.063036  0.017027\n",
       "2018-09-10 -0.013412  0.007437  0.022416  0.084562 -0.001466\n",
       "...              ...       ...       ...       ...       ...\n",
       "2018-12-24 -0.025848 -0.033845 -0.059002 -0.076242 -0.038315\n",
       "2018-12-26  0.070393  0.021323  0.072100  0.103930  0.047779\n",
       "2018-12-27 -0.006464  0.012569  0.009040 -0.030544  0.004371\n",
       "2018-12-28  0.000487 -0.006943 -0.004479  0.056116 -0.011169\n",
       "2018-12-31  0.009678  0.003178  0.010908 -0.003205  0.000293\n",
       "\n",
       "[82 rows x 5 columns]"
      ]
     },
     "execution_count": 6,
     "metadata": {},
     "output_type": "execute_result"
    }
   ],
   "source": [
    "pivoted.pct_change()"
   ]
  },
  {
   "cell_type": "code",
   "execution_count": 7,
   "metadata": {},
   "outputs": [
    {
     "data": {
      "text/plain": [
       "date\n",
       "2018-09-04         NaN\n",
       "2018-09-05   -0.006537\n",
       "2018-09-06   -0.016766\n",
       "2018-09-07   -0.008101\n",
       "2018-09-10   -0.013502\n",
       "Name: AAPL, dtype: float64"
      ]
     },
     "execution_count": 7,
     "metadata": {},
     "output_type": "execute_result"
    }
   ],
   "source": [
    "aapl = pivoted['AAPL'].pct_change().apply(lambda x: (np.log(1+x)))\n",
    "aapl.head()"
   ]
  },
  {
   "cell_type": "markdown",
   "metadata": {},
   "source": [
    "### Variance\n",
    "$$s^2 = \\frac{\\sum_{i=1}^N (x_i - \\bar{x})^2}{N-1}$$\n",
    "Standard Deviation (Volatility)\n",
    "$$s = \\sqrt{\\frac{\\sum_{i=1}^N (x_i - \\bar{x})^2}{N-1}}$$"
   ]
  },
  {
   "cell_type": "code",
   "execution_count": 8,
   "metadata": {},
   "outputs": [
    {
     "data": {
      "text/plain": [
       "-0.004567595347237204"
      ]
     },
     "execution_count": 8,
     "metadata": {},
     "output_type": "execute_result"
    }
   ],
   "source": [
    "mean_aapl = aapl.sum()/aapl.count()\n",
    "mean_aapl"
   ]
  },
  {
   "cell_type": "code",
   "execution_count": 9,
   "metadata": {},
   "outputs": [
    {
     "data": {
      "text/plain": [
       "date\n",
       "2018-09-04         NaN\n",
       "2018-09-05    0.000004\n",
       "2018-09-06    0.000149\n",
       "2018-09-07    0.000012\n",
       "2018-09-10    0.000080\n",
       "                ...   \n",
       "2018-12-24    0.000467\n",
       "2018-12-26    0.005270\n",
       "2018-12-27    0.000004\n",
       "2018-12-28    0.000026\n",
       "2018-12-31    0.000202\n",
       "Name: AAPL, Length: 82, dtype: float64"
      ]
     },
     "execution_count": 9,
     "metadata": {},
     "output_type": "execute_result"
    }
   ],
   "source": [
    "var = aapl.apply(lambda x: (x- mean_aapl)**2)\n",
    "var"
   ]
  },
  {
   "cell_type": "code",
   "execution_count": 10,
   "metadata": {},
   "outputs": [
    {
     "data": {
      "text/plain": [
       "0.000552790333627004"
      ]
     },
     "execution_count": 10,
     "metadata": {},
     "output_type": "execute_result"
    }
   ],
   "source": [
    "var_aapl = var.sum()/(aapl.count() - 1)\n",
    "var_aapl"
   ]
  },
  {
   "cell_type": "code",
   "execution_count": 11,
   "metadata": {},
   "outputs": [
    {
     "data": {
      "text/plain": [
       "0.0005527903336270039"
      ]
     },
     "execution_count": 11,
     "metadata": {},
     "output_type": "execute_result"
    }
   ],
   "source": [
    "aapl.var()"
   ]
  },
  {
   "cell_type": "markdown",
   "metadata": {},
   "source": [
    "### std "
   ]
  },
  {
   "cell_type": "code",
   "execution_count": 12,
   "metadata": {},
   "outputs": [
    {
     "data": {
      "text/plain": [
       "0.023511493649426105"
      ]
     },
     "execution_count": 12,
     "metadata": {},
     "output_type": "execute_result"
    }
   ],
   "source": [
    "st_aapl_d = np.sqrt(var_aapl)\n",
    "st_aapl_d"
   ]
  },
  {
   "cell_type": "code",
   "execution_count": 13,
   "metadata": {},
   "outputs": [
    {
     "data": {
      "text/plain": [
       "0.3717493556238544"
      ]
     },
     "execution_count": 13,
     "metadata": {},
     "output_type": "execute_result"
    }
   ],
   "source": [
    "annual = aapl.std() * np.sqrt(250)\n",
    "annual"
   ]
  },
  {
   "cell_type": "code",
   "execution_count": 14,
   "metadata": {},
   "outputs": [
    {
     "data": {
      "text/plain": [
       "<matplotlib.axes._subplots.AxesSubplot at 0x244b826a408>"
      ]
     },
     "execution_count": 14,
     "metadata": {},
     "output_type": "execute_result"
    },
    {
     "data": {
      "image/png": "[encoded data removed]",
      "text/plain": [
       "<Figure size 432x288 with 1 Axes>"
      ]
     },
     "metadata": {
      "needs_background": "light"
     },
     "output_type": "display_data"
    }
   ],
   "source": [
    "pivoted.pct_change().apply(lambda x: np.log(1+x)).std().apply(lambda x: x*np.sqrt(250)).plot(kind = 'bar')"
   ]
  },
  {
   "cell_type": "markdown",
   "metadata": {},
   "source": [
    "### Covariance\n",
    "$$\\sigma_{ij} = \\frac{\\sum_{i=1j=1}^N (x_i - \\bar{x_i})(x_j - \\bar{x_j})}{N-1}$$"
   ]
  },
  {
   "cell_type": "code",
   "execution_count": 15,
   "metadata": {},
   "outputs": [
    {
     "data": {
      "text/html": [
       "<div>\n",
       "<style scoped>\n",
       "    .dataframe tbody tr th:only-of-type {\n",
       "        vertical-align: middle;\n",
       "    }\n",
       "\n",
       "    .dataframe tbody tr th {\n",
       "        vertical-align: top;\n",
       "    }\n",
       "\n",
       "    .dataframe thead th {\n",
       "        text-align: right;\n",
       "    }\n",
       "</style>\n",
       "<table border=\"1\" class=\"dataframe\">\n",
       "  <thead>\n",
       "    <tr style=\"text-align: right;\">\n",
       "      <th>ticker</th>\n",
       "      <th>AAPL</th>\n",
       "      <th>KO</th>\n",
       "      <th>NKE</th>\n",
       "      <th>TSLA</th>\n",
       "      <th>XOM</th>\n",
       "    </tr>\n",
       "    <tr>\n",
       "      <th>date</th>\n",
       "      <th></th>\n",
       "      <th></th>\n",
       "      <th></th>\n",
       "      <th></th>\n",
       "      <th></th>\n",
       "    </tr>\n",
       "  </thead>\n",
       "  <tbody>\n",
       "    <tr>\n",
       "      <th>2018-09-04</th>\n",
       "      <td>NaN</td>\n",
       "      <td>NaN</td>\n",
       "      <td>NaN</td>\n",
       "      <td>NaN</td>\n",
       "      <td>NaN</td>\n",
       "    </tr>\n",
       "    <tr>\n",
       "      <th>2018-09-05</th>\n",
       "      <td>-0.006516</td>\n",
       "      <td>0.013852</td>\n",
       "      <td>0.004020</td>\n",
       "      <td>-0.028413</td>\n",
       "      <td>0.013327</td>\n",
       "    </tr>\n",
       "    <tr>\n",
       "      <th>2018-09-06</th>\n",
       "      <td>-0.016626</td>\n",
       "      <td>0.008594</td>\n",
       "      <td>0.006006</td>\n",
       "      <td>0.000748</td>\n",
       "      <td>-0.011062</td>\n",
       "    </tr>\n",
       "    <tr>\n",
       "      <th>2018-09-07</th>\n",
       "      <td>-0.008068</td>\n",
       "      <td>-0.001092</td>\n",
       "      <td>-0.001244</td>\n",
       "      <td>-0.063036</td>\n",
       "      <td>0.017027</td>\n",
       "    </tr>\n",
       "    <tr>\n",
       "      <th>2018-09-10</th>\n",
       "      <td>-0.013412</td>\n",
       "      <td>0.007437</td>\n",
       "      <td>0.022416</td>\n",
       "      <td>0.084562</td>\n",
       "      <td>-0.001466</td>\n",
       "    </tr>\n",
       "  </tbody>\n",
       "</table>\n",
       "</div>"
      ],
      "text/plain": [
       "ticker          AAPL        KO       NKE      TSLA       XOM\n",
       "date                                                        \n",
       "2018-09-04       NaN       NaN       NaN       NaN       NaN\n",
       "2018-09-05 -0.006516  0.013852  0.004020 -0.028413  0.013327\n",
       "2018-09-06 -0.016626  0.008594  0.006006  0.000748 -0.011062\n",
       "2018-09-07 -0.008068 -0.001092 -0.001244 -0.063036  0.017027\n",
       "2018-09-10 -0.013412  0.007437  0.022416  0.084562 -0.001466"
      ]
     },
     "execution_count": 15,
     "metadata": {},
     "output_type": "execute_result"
    }
   ],
   "source": [
    "df = pivoted.pct_change()\n",
    "df.head()"
   ]
  },
  {
   "cell_type": "code",
   "execution_count": 16,
   "metadata": {},
   "outputs": [
    {
     "data": {
      "text/plain": [
       "-0.004285484081956768"
      ]
     },
     "execution_count": 16,
     "metadata": {},
     "output_type": "execute_result"
    }
   ],
   "source": [
    "mean_AAPL = df['AAPL'].mean()\n",
    "mean_TSLA = df['TSLA'].mean()\n",
    "mean_AAPL"
   ]
  },
  {
   "cell_type": "code",
   "execution_count": 17,
   "metadata": {},
   "outputs": [
    {
     "data": {
      "text/html": [
       "<div>\n",
       "<style scoped>\n",
       "    .dataframe tbody tr th:only-of-type {\n",
       "        vertical-align: middle;\n",
       "    }\n",
       "\n",
       "    .dataframe tbody tr th {\n",
       "        vertical-align: top;\n",
       "    }\n",
       "\n",
       "    .dataframe thead th {\n",
       "        text-align: right;\n",
       "    }\n",
       "</style>\n",
       "<table border=\"1\" class=\"dataframe\">\n",
       "  <thead>\n",
       "    <tr style=\"text-align: right;\">\n",
       "      <th>ticker</th>\n",
       "      <th>AAPL</th>\n",
       "      <th>KO</th>\n",
       "      <th>NKE</th>\n",
       "      <th>TSLA</th>\n",
       "      <th>XOM</th>\n",
       "      <th>dif_AAPL</th>\n",
       "      <th>dif_TSLA</th>\n",
       "    </tr>\n",
       "    <tr>\n",
       "      <th>date</th>\n",
       "      <th></th>\n",
       "      <th></th>\n",
       "      <th></th>\n",
       "      <th></th>\n",
       "      <th></th>\n",
       "      <th></th>\n",
       "      <th></th>\n",
       "    </tr>\n",
       "  </thead>\n",
       "  <tbody>\n",
       "    <tr>\n",
       "      <th>2018-09-04</th>\n",
       "      <td>NaN</td>\n",
       "      <td>NaN</td>\n",
       "      <td>NaN</td>\n",
       "      <td>NaN</td>\n",
       "      <td>NaN</td>\n",
       "      <td>NaN</td>\n",
       "      <td>NaN</td>\n",
       "    </tr>\n",
       "    <tr>\n",
       "      <th>2018-09-05</th>\n",
       "      <td>-0.006516</td>\n",
       "      <td>0.013852</td>\n",
       "      <td>0.004020</td>\n",
       "      <td>-0.028413</td>\n",
       "      <td>0.013327</td>\n",
       "      <td>-0.002231</td>\n",
       "      <td>-0.031120</td>\n",
       "    </tr>\n",
       "    <tr>\n",
       "      <th>2018-09-06</th>\n",
       "      <td>-0.016626</td>\n",
       "      <td>0.008594</td>\n",
       "      <td>0.006006</td>\n",
       "      <td>0.000748</td>\n",
       "      <td>-0.011062</td>\n",
       "      <td>-0.012341</td>\n",
       "      <td>-0.001959</td>\n",
       "    </tr>\n",
       "    <tr>\n",
       "      <th>2018-09-07</th>\n",
       "      <td>-0.008068</td>\n",
       "      <td>-0.001092</td>\n",
       "      <td>-0.001244</td>\n",
       "      <td>-0.063036</td>\n",
       "      <td>0.017027</td>\n",
       "      <td>-0.003783</td>\n",
       "      <td>-0.065743</td>\n",
       "    </tr>\n",
       "    <tr>\n",
       "      <th>2018-09-10</th>\n",
       "      <td>-0.013412</td>\n",
       "      <td>0.007437</td>\n",
       "      <td>0.022416</td>\n",
       "      <td>0.084562</td>\n",
       "      <td>-0.001466</td>\n",
       "      <td>-0.009126</td>\n",
       "      <td>0.081855</td>\n",
       "    </tr>\n",
       "    <tr>\n",
       "      <th>...</th>\n",
       "      <td>...</td>\n",
       "      <td>...</td>\n",
       "      <td>...</td>\n",
       "      <td>...</td>\n",
       "      <td>...</td>\n",
       "      <td>...</td>\n",
       "      <td>...</td>\n",
       "    </tr>\n",
       "    <tr>\n",
       "      <th>2018-12-24</th>\n",
       "      <td>-0.025848</td>\n",
       "      <td>-0.033845</td>\n",
       "      <td>-0.059002</td>\n",
       "      <td>-0.076242</td>\n",
       "      <td>-0.038315</td>\n",
       "      <td>-0.021562</td>\n",
       "      <td>-0.078949</td>\n",
       "    </tr>\n",
       "    <tr>\n",
       "      <th>2018-12-26</th>\n",
       "      <td>0.070393</td>\n",
       "      <td>0.021323</td>\n",
       "      <td>0.072100</td>\n",
       "      <td>0.103930</td>\n",
       "      <td>0.047779</td>\n",
       "      <td>0.074679</td>\n",
       "      <td>0.101224</td>\n",
       "    </tr>\n",
       "    <tr>\n",
       "      <th>2018-12-27</th>\n",
       "      <td>-0.006464</td>\n",
       "      <td>0.012569</td>\n",
       "      <td>0.009040</td>\n",
       "      <td>-0.030544</td>\n",
       "      <td>0.004371</td>\n",
       "      <td>-0.002179</td>\n",
       "      <td>-0.033250</td>\n",
       "    </tr>\n",
       "    <tr>\n",
       "      <th>2018-12-28</th>\n",
       "      <td>0.000487</td>\n",
       "      <td>-0.006943</td>\n",
       "      <td>-0.004479</td>\n",
       "      <td>0.056116</td>\n",
       "      <td>-0.011169</td>\n",
       "      <td>0.004772</td>\n",
       "      <td>0.053409</td>\n",
       "    </tr>\n",
       "    <tr>\n",
       "      <th>2018-12-31</th>\n",
       "      <td>0.009678</td>\n",
       "      <td>0.003178</td>\n",
       "      <td>0.010908</td>\n",
       "      <td>-0.003205</td>\n",
       "      <td>0.000293</td>\n",
       "      <td>0.013964</td>\n",
       "      <td>-0.005912</td>\n",
       "    </tr>\n",
       "  </tbody>\n",
       "</table>\n",
       "<p>82 rows × 7 columns</p>\n",
       "</div>"
      ],
      "text/plain": [
       "ticker          AAPL        KO       NKE      TSLA       XOM  dif_AAPL  \\\n",
       "date                                                                     \n",
       "2018-09-04       NaN       NaN       NaN       NaN       NaN       NaN   \n",
       "2018-09-05 -0.006516  0.013852  0.004020 -0.028413  0.013327 -0.002231   \n",
       "2018-09-06 -0.016626  0.008594  0.006006  0.000748 -0.011062 -0.012341   \n",
       "2018-09-07 -0.008068 -0.001092 -0.001244 -0.063036  0.017027 -0.003783   \n",
       "2018-09-10 -0.013412  0.007437  0.022416  0.084562 -0.001466 -0.009126   \n",
       "...              ...       ...       ...       ...       ...       ...   \n",
       "2018-12-24 -0.025848 -0.033845 -0.059002 -0.076242 -0.038315 -0.021562   \n",
       "2018-12-26  0.070393  0.021323  0.072100  0.103930  0.047779  0.074679   \n",
       "2018-12-27 -0.006464  0.012569  0.009040 -0.030544  0.004371 -0.002179   \n",
       "2018-12-28  0.000487 -0.006943 -0.004479  0.056116 -0.011169  0.004772   \n",
       "2018-12-31  0.009678  0.003178  0.010908 -0.003205  0.000293  0.013964   \n",
       "\n",
       "ticker      dif_TSLA  \n",
       "date                  \n",
       "2018-09-04       NaN  \n",
       "2018-09-05 -0.031120  \n",
       "2018-09-06 -0.001959  \n",
       "2018-09-07 -0.065743  \n",
       "2018-09-10  0.081855  \n",
       "...              ...  \n",
       "2018-12-24 -0.078949  \n",
       "2018-12-26  0.101224  \n",
       "2018-12-27 -0.033250  \n",
       "2018-12-28  0.053409  \n",
       "2018-12-31 -0.005912  \n",
       "\n",
       "[82 rows x 7 columns]"
      ]
     },
     "execution_count": 17,
     "metadata": {},
     "output_type": "execute_result"
    }
   ],
   "source": [
    "df['dif_AAPL'] = df['AAPL'] - mean_AAPL\n",
    "df['dif_TSLA'] = df['TSLA'] - mean_TSLA\n",
    "df"
   ]
  },
  {
   "cell_type": "code",
   "execution_count": 18,
   "metadata": {},
   "outputs": [
    {
     "data": {
      "text/html": [
       "<div>\n",
       "<style scoped>\n",
       "    .dataframe tbody tr th:only-of-type {\n",
       "        vertical-align: middle;\n",
       "    }\n",
       "\n",
       "    .dataframe tbody tr th {\n",
       "        vertical-align: top;\n",
       "    }\n",
       "\n",
       "    .dataframe thead th {\n",
       "        text-align: right;\n",
       "    }\n",
       "</style>\n",
       "<table border=\"1\" class=\"dataframe\">\n",
       "  <thead>\n",
       "    <tr style=\"text-align: right;\">\n",
       "      <th>ticker</th>\n",
       "      <th>AAPL</th>\n",
       "      <th>KO</th>\n",
       "      <th>NKE</th>\n",
       "      <th>TSLA</th>\n",
       "      <th>XOM</th>\n",
       "      <th>dif_AAPL</th>\n",
       "      <th>dif_TSLA</th>\n",
       "      <th>COV_TSLA_AAPL</th>\n",
       "    </tr>\n",
       "    <tr>\n",
       "      <th>date</th>\n",
       "      <th></th>\n",
       "      <th></th>\n",
       "      <th></th>\n",
       "      <th></th>\n",
       "      <th></th>\n",
       "      <th></th>\n",
       "      <th></th>\n",
       "      <th></th>\n",
       "    </tr>\n",
       "  </thead>\n",
       "  <tbody>\n",
       "    <tr>\n",
       "      <th>2018-09-04</th>\n",
       "      <td>NaN</td>\n",
       "      <td>NaN</td>\n",
       "      <td>NaN</td>\n",
       "      <td>NaN</td>\n",
       "      <td>NaN</td>\n",
       "      <td>NaN</td>\n",
       "      <td>NaN</td>\n",
       "      <td>NaN</td>\n",
       "    </tr>\n",
       "    <tr>\n",
       "      <th>2018-09-05</th>\n",
       "      <td>-0.006516</td>\n",
       "      <td>0.013852</td>\n",
       "      <td>0.004020</td>\n",
       "      <td>-0.028413</td>\n",
       "      <td>0.013327</td>\n",
       "      <td>-0.002231</td>\n",
       "      <td>-0.031120</td>\n",
       "      <td>8.676791e-07</td>\n",
       "    </tr>\n",
       "    <tr>\n",
       "      <th>2018-09-06</th>\n",
       "      <td>-0.016626</td>\n",
       "      <td>0.008594</td>\n",
       "      <td>0.006006</td>\n",
       "      <td>0.000748</td>\n",
       "      <td>-0.011062</td>\n",
       "      <td>-0.012341</td>\n",
       "      <td>-0.001959</td>\n",
       "      <td>3.021412e-07</td>\n",
       "    </tr>\n",
       "    <tr>\n",
       "      <th>2018-09-07</th>\n",
       "      <td>-0.008068</td>\n",
       "      <td>-0.001092</td>\n",
       "      <td>-0.001244</td>\n",
       "      <td>-0.063036</td>\n",
       "      <td>0.017027</td>\n",
       "      <td>-0.003783</td>\n",
       "      <td>-0.065743</td>\n",
       "      <td>3.108524e-06</td>\n",
       "    </tr>\n",
       "    <tr>\n",
       "      <th>2018-09-10</th>\n",
       "      <td>-0.013412</td>\n",
       "      <td>0.007437</td>\n",
       "      <td>0.022416</td>\n",
       "      <td>0.084562</td>\n",
       "      <td>-0.001466</td>\n",
       "      <td>-0.009126</td>\n",
       "      <td>0.081855</td>\n",
       "      <td>-9.337778e-06</td>\n",
       "    </tr>\n",
       "    <tr>\n",
       "      <th>...</th>\n",
       "      <td>...</td>\n",
       "      <td>...</td>\n",
       "      <td>...</td>\n",
       "      <td>...</td>\n",
       "      <td>...</td>\n",
       "      <td>...</td>\n",
       "      <td>...</td>\n",
       "      <td>...</td>\n",
       "    </tr>\n",
       "    <tr>\n",
       "      <th>2018-12-24</th>\n",
       "      <td>-0.025848</td>\n",
       "      <td>-0.033845</td>\n",
       "      <td>-0.059002</td>\n",
       "      <td>-0.076242</td>\n",
       "      <td>-0.038315</td>\n",
       "      <td>-0.021562</td>\n",
       "      <td>-0.078949</td>\n",
       "      <td>2.127912e-05</td>\n",
       "    </tr>\n",
       "    <tr>\n",
       "      <th>2018-12-26</th>\n",
       "      <td>0.070393</td>\n",
       "      <td>0.021323</td>\n",
       "      <td>0.072100</td>\n",
       "      <td>0.103930</td>\n",
       "      <td>0.047779</td>\n",
       "      <td>0.074679</td>\n",
       "      <td>0.101224</td>\n",
       "      <td>9.449088e-05</td>\n",
       "    </tr>\n",
       "    <tr>\n",
       "      <th>2018-12-27</th>\n",
       "      <td>-0.006464</td>\n",
       "      <td>0.012569</td>\n",
       "      <td>0.009040</td>\n",
       "      <td>-0.030544</td>\n",
       "      <td>0.004371</td>\n",
       "      <td>-0.002179</td>\n",
       "      <td>-0.033250</td>\n",
       "      <td>9.056316e-07</td>\n",
       "    </tr>\n",
       "    <tr>\n",
       "      <th>2018-12-28</th>\n",
       "      <td>0.000487</td>\n",
       "      <td>-0.006943</td>\n",
       "      <td>-0.004479</td>\n",
       "      <td>0.056116</td>\n",
       "      <td>-0.011169</td>\n",
       "      <td>0.004772</td>\n",
       "      <td>0.053409</td>\n",
       "      <td>3.186000e-06</td>\n",
       "    </tr>\n",
       "    <tr>\n",
       "      <th>2018-12-31</th>\n",
       "      <td>0.009678</td>\n",
       "      <td>0.003178</td>\n",
       "      <td>0.010908</td>\n",
       "      <td>-0.003205</td>\n",
       "      <td>0.000293</td>\n",
       "      <td>0.013964</td>\n",
       "      <td>-0.005912</td>\n",
       "      <td>-1.031833e-06</td>\n",
       "    </tr>\n",
       "  </tbody>\n",
       "</table>\n",
       "<p>82 rows × 8 columns</p>\n",
       "</div>"
      ],
      "text/plain": [
       "ticker          AAPL        KO       NKE      TSLA       XOM  dif_AAPL  \\\n",
       "date                                                                     \n",
       "2018-09-04       NaN       NaN       NaN       NaN       NaN       NaN   \n",
       "2018-09-05 -0.006516  0.013852  0.004020 -0.028413  0.013327 -0.002231   \n",
       "2018-09-06 -0.016626  0.008594  0.006006  0.000748 -0.011062 -0.012341   \n",
       "2018-09-07 -0.008068 -0.001092 -0.001244 -0.063036  0.017027 -0.003783   \n",
       "2018-09-10 -0.013412  0.007437  0.022416  0.084562 -0.001466 -0.009126   \n",
       "...              ...       ...       ...       ...       ...       ...   \n",
       "2018-12-24 -0.025848 -0.033845 -0.059002 -0.076242 -0.038315 -0.021562   \n",
       "2018-12-26  0.070393  0.021323  0.072100  0.103930  0.047779  0.074679   \n",
       "2018-12-27 -0.006464  0.012569  0.009040 -0.030544  0.004371 -0.002179   \n",
       "2018-12-28  0.000487 -0.006943 -0.004479  0.056116 -0.011169  0.004772   \n",
       "2018-12-31  0.009678  0.003178  0.010908 -0.003205  0.000293  0.013964   \n",
       "\n",
       "ticker      dif_TSLA  COV_TSLA_AAPL  \n",
       "date                                 \n",
       "2018-09-04       NaN            NaN  \n",
       "2018-09-05 -0.031120   8.676791e-07  \n",
       "2018-09-06 -0.001959   3.021412e-07  \n",
       "2018-09-07 -0.065743   3.108524e-06  \n",
       "2018-09-10  0.081855  -9.337778e-06  \n",
       "...              ...            ...  \n",
       "2018-12-24 -0.078949   2.127912e-05  \n",
       "2018-12-26  0.101224   9.449088e-05  \n",
       "2018-12-27 -0.033250   9.056316e-07  \n",
       "2018-12-28  0.053409   3.186000e-06  \n",
       "2018-12-31 -0.005912  -1.031833e-06  \n",
       "\n",
       "[82 rows x 8 columns]"
      ]
     },
     "execution_count": 18,
     "metadata": {},
     "output_type": "execute_result"
    }
   ],
   "source": [
    "df['COV_TSLA_AAPL'] = (df['dif_AAPL'] * df['dif_TSLA'])/(df['AAPL'].count() - 1)\n",
    "df"
   ]
  },
  {
   "cell_type": "code",
   "execution_count": 19,
   "metadata": {},
   "outputs": [
    {
     "data": {
      "text/plain": [
       "0.0003596036994998219"
      ]
     },
     "execution_count": 19,
     "metadata": {},
     "output_type": "execute_result"
    }
   ],
   "source": [
    "df['COV_TSLA_AAPL'].sum()"
   ]
  },
  {
   "cell_type": "code",
   "execution_count": 20,
   "metadata": {},
   "outputs": [
    {
     "data": {
      "text/plain": [
       "0.000359603699499822"
      ]
     },
     "execution_count": 20,
     "metadata": {},
     "output_type": "execute_result"
    }
   ],
   "source": [
    "df['AAPL'].cov(df['TSLA'])"
   ]
  },
  {
   "cell_type": "markdown",
   "metadata": {},
   "source": [
    "### Correlation\n",
    "$$p(R_i,R_j) = \\frac{COV(R_i, R_j)}{\\sigma_i \\sigma_j}$$"
   ]
  },
  {
   "cell_type": "code",
   "execution_count": 21,
   "metadata": {},
   "outputs": [
    {
     "data": {
      "text/plain": [
       "0.00021470865521067362"
      ]
     },
     "execution_count": 21,
     "metadata": {},
     "output_type": "execute_result"
    }
   ],
   "source": [
    "cov_xom_tsla = df['TSLA'].cov(df['XOM'])\n",
    "cov_xom_tsla"
   ]
  },
  {
   "cell_type": "code",
   "execution_count": 22,
   "metadata": {},
   "outputs": [
    {
     "data": {
      "text/plain": [
       "0.32091318403396246"
      ]
     },
     "execution_count": 22,
     "metadata": {},
     "output_type": "execute_result"
    }
   ],
   "source": [
    "df['TSLA'].corr(df['XOM'])"
   ]
  },
  {
   "cell_type": "markdown",
   "metadata": {},
   "source": [
    "### corr matrix"
   ]
  },
  {
   "cell_type": "code",
   "execution_count": 23,
   "metadata": {},
   "outputs": [],
   "source": [
    "prices = quandl.get_table('SHARADAR/SEP', date={'gte':'2017-01-01', 'lte':'2018-12-31'}, paginate=True)"
   ]
  },
  {
   "cell_type": "code",
   "execution_count": 24,
   "metadata": {},
   "outputs": [],
   "source": [
    "df = prices.pivot(index='date', columns='ticker', values='close').pct_change().apply(lambda x: np.log(1+x))"
   ]
  },
  {
   "cell_type": "code",
   "execution_count": 25,
   "metadata": {},
   "outputs": [
    {
     "data": {
      "text/html": [
       "<div>\n",
       "<style scoped>\n",
       "    .dataframe tbody tr th:only-of-type {\n",
       "        vertical-align: middle;\n",
       "    }\n",
       "\n",
       "    .dataframe tbody tr th {\n",
       "        vertical-align: top;\n",
       "    }\n",
       "\n",
       "    .dataframe thead th {\n",
       "        text-align: right;\n",
       "    }\n",
       "</style>\n",
       "<table border=\"1\" class=\"dataframe\">\n",
       "  <thead>\n",
       "    <tr style=\"text-align: right;\">\n",
       "      <th>ticker</th>\n",
       "      <th>AAPL</th>\n",
       "      <th>AXP</th>\n",
       "      <th>BA</th>\n",
       "      <th>CAT</th>\n",
       "      <th>CSCO</th>\n",
       "      <th>CVX</th>\n",
       "      <th>DD</th>\n",
       "      <th>DIS</th>\n",
       "      <th>GE</th>\n",
       "      <th>GS</th>\n",
       "      <th>...</th>\n",
       "      <th>NKE</th>\n",
       "      <th>PFE</th>\n",
       "      <th>PG</th>\n",
       "      <th>TRV</th>\n",
       "      <th>TSLA</th>\n",
       "      <th>UNH</th>\n",
       "      <th>V</th>\n",
       "      <th>VZ</th>\n",
       "      <th>WMT</th>\n",
       "      <th>XOM</th>\n",
       "    </tr>\n",
       "    <tr>\n",
       "      <th>ticker</th>\n",
       "      <th></th>\n",
       "      <th></th>\n",
       "      <th></th>\n",
       "      <th></th>\n",
       "      <th></th>\n",
       "      <th></th>\n",
       "      <th></th>\n",
       "      <th></th>\n",
       "      <th></th>\n",
       "      <th></th>\n",
       "      <th></th>\n",
       "      <th></th>\n",
       "      <th></th>\n",
       "      <th></th>\n",
       "      <th></th>\n",
       "      <th></th>\n",
       "      <th></th>\n",
       "      <th></th>\n",
       "      <th></th>\n",
       "      <th></th>\n",
       "      <th></th>\n",
       "    </tr>\n",
       "  </thead>\n",
       "  <tbody>\n",
       "    <tr>\n",
       "      <th>AAPL</th>\n",
       "      <td>0.000553</td>\n",
       "      <td>0.000254</td>\n",
       "      <td>0.000357</td>\n",
       "      <td>0.000330</td>\n",
       "      <td>0.000338</td>\n",
       "      <td>0.000191</td>\n",
       "      <td>0.000259</td>\n",
       "      <td>0.000241</td>\n",
       "      <td>0.000268</td>\n",
       "      <td>0.000298</td>\n",
       "      <td>...</td>\n",
       "      <td>0.000266</td>\n",
       "      <td>0.000193</td>\n",
       "      <td>0.000068</td>\n",
       "      <td>0.000170</td>\n",
       "      <td>0.000350</td>\n",
       "      <td>0.000269</td>\n",
       "      <td>0.000380</td>\n",
       "      <td>0.000022</td>\n",
       "      <td>0.000154</td>\n",
       "      <td>0.000193</td>\n",
       "    </tr>\n",
       "    <tr>\n",
       "      <th>AXP</th>\n",
       "      <td>0.000254</td>\n",
       "      <td>0.000279</td>\n",
       "      <td>0.000208</td>\n",
       "      <td>0.000248</td>\n",
       "      <td>0.000238</td>\n",
       "      <td>0.000169</td>\n",
       "      <td>0.000209</td>\n",
       "      <td>0.000174</td>\n",
       "      <td>0.000157</td>\n",
       "      <td>0.000237</td>\n",
       "      <td>...</td>\n",
       "      <td>0.000178</td>\n",
       "      <td>0.000143</td>\n",
       "      <td>0.000131</td>\n",
       "      <td>0.000142</td>\n",
       "      <td>0.000281</td>\n",
       "      <td>0.000188</td>\n",
       "      <td>0.000269</td>\n",
       "      <td>0.000062</td>\n",
       "      <td>0.000127</td>\n",
       "      <td>0.000151</td>\n",
       "    </tr>\n",
       "    <tr>\n",
       "      <th>BA</th>\n",
       "      <td>0.000357</td>\n",
       "      <td>0.000208</td>\n",
       "      <td>0.000508</td>\n",
       "      <td>0.000354</td>\n",
       "      <td>0.000275</td>\n",
       "      <td>0.000219</td>\n",
       "      <td>0.000249</td>\n",
       "      <td>0.000169</td>\n",
       "      <td>0.000192</td>\n",
       "      <td>0.000244</td>\n",
       "      <td>...</td>\n",
       "      <td>0.000292</td>\n",
       "      <td>0.000143</td>\n",
       "      <td>0.000084</td>\n",
       "      <td>0.000155</td>\n",
       "      <td>0.000222</td>\n",
       "      <td>0.000238</td>\n",
       "      <td>0.000324</td>\n",
       "      <td>0.000016</td>\n",
       "      <td>0.000173</td>\n",
       "      <td>0.000181</td>\n",
       "    </tr>\n",
       "    <tr>\n",
       "      <th>CAT</th>\n",
       "      <td>0.000330</td>\n",
       "      <td>0.000248</td>\n",
       "      <td>0.000354</td>\n",
       "      <td>0.000618</td>\n",
       "      <td>0.000327</td>\n",
       "      <td>0.000256</td>\n",
       "      <td>0.000371</td>\n",
       "      <td>0.000209</td>\n",
       "      <td>0.000146</td>\n",
       "      <td>0.000308</td>\n",
       "      <td>...</td>\n",
       "      <td>0.000334</td>\n",
       "      <td>0.000193</td>\n",
       "      <td>0.000054</td>\n",
       "      <td>0.000184</td>\n",
       "      <td>0.000184</td>\n",
       "      <td>0.000240</td>\n",
       "      <td>0.000355</td>\n",
       "      <td>-0.000005</td>\n",
       "      <td>0.000135</td>\n",
       "      <td>0.000233</td>\n",
       "    </tr>\n",
       "    <tr>\n",
       "      <th>CSCO</th>\n",
       "      <td>0.000338</td>\n",
       "      <td>0.000238</td>\n",
       "      <td>0.000275</td>\n",
       "      <td>0.000327</td>\n",
       "      <td>0.000383</td>\n",
       "      <td>0.000208</td>\n",
       "      <td>0.000234</td>\n",
       "      <td>0.000196</td>\n",
       "      <td>0.000154</td>\n",
       "      <td>0.000260</td>\n",
       "      <td>...</td>\n",
       "      <td>0.000269</td>\n",
       "      <td>0.000195</td>\n",
       "      <td>0.000096</td>\n",
       "      <td>0.000160</td>\n",
       "      <td>0.000309</td>\n",
       "      <td>0.000239</td>\n",
       "      <td>0.000343</td>\n",
       "      <td>0.000066</td>\n",
       "      <td>0.000138</td>\n",
       "      <td>0.000188</td>\n",
       "    </tr>\n",
       "  </tbody>\n",
       "</table>\n",
       "<p>5 rows × 30 columns</p>\n",
       "</div>"
      ],
      "text/plain": [
       "ticker      AAPL       AXP        BA       CAT      CSCO       CVX        DD  \\\n",
       "ticker                                                                         \n",
       "AAPL    0.000553  0.000254  0.000357  0.000330  0.000338  0.000191  0.000259   \n",
       "AXP     0.000254  0.000279  0.000208  0.000248  0.000238  0.000169  0.000209   \n",
       "BA      0.000357  0.000208  0.000508  0.000354  0.000275  0.000219  0.000249   \n",
       "CAT     0.000330  0.000248  0.000354  0.000618  0.000327  0.000256  0.000371   \n",
       "CSCO    0.000338  0.000238  0.000275  0.000327  0.000383  0.000208  0.000234   \n",
       "\n",
       "ticker       DIS        GE        GS  ...       NKE       PFE        PG  \\\n",
       "ticker                                ...                                 \n",
       "AAPL    0.000241  0.000268  0.000298  ...  0.000266  0.000193  0.000068   \n",
       "AXP     0.000174  0.000157  0.000237  ...  0.000178  0.000143  0.000131   \n",
       "BA      0.000169  0.000192  0.000244  ...  0.000292  0.000143  0.000084   \n",
       "CAT     0.000209  0.000146  0.000308  ...  0.000334  0.000193  0.000054   \n",
       "CSCO    0.000196  0.000154  0.000260  ...  0.000269  0.000195  0.000096   \n",
       "\n",
       "ticker       TRV      TSLA       UNH         V        VZ       WMT       XOM  \n",
       "ticker                                                                        \n",
       "AAPL    0.000170  0.000350  0.000269  0.000380  0.000022  0.000154  0.000193  \n",
       "AXP     0.000142  0.000281  0.000188  0.000269  0.000062  0.000127  0.000151  \n",
       "BA      0.000155  0.000222  0.000238  0.000324  0.000016  0.000173  0.000181  \n",
       "CAT     0.000184  0.000184  0.000240  0.000355 -0.000005  0.000135  0.000233  \n",
       "CSCO    0.000160  0.000309  0.000239  0.000343  0.000066  0.000138  0.000188  \n",
       "\n",
       "[5 rows x 30 columns]"
      ]
     },
     "execution_count": 25,
     "metadata": {},
     "output_type": "execute_result"
    }
   ],
   "source": [
    "df.cov().head()"
   ]
  },
  {
   "cell_type": "code",
   "execution_count": 26,
   "metadata": {},
   "outputs": [
    {
     "data": {
      "text/html": [
       "<div>\n",
       "<style scoped>\n",
       "    .dataframe tbody tr th:only-of-type {\n",
       "        vertical-align: middle;\n",
       "    }\n",
       "\n",
       "    .dataframe tbody tr th {\n",
       "        vertical-align: top;\n",
       "    }\n",
       "\n",
       "    .dataframe thead th {\n",
       "        text-align: right;\n",
       "    }\n",
       "</style>\n",
       "<table border=\"1\" class=\"dataframe\">\n",
       "  <thead>\n",
       "    <tr style=\"text-align: right;\">\n",
       "      <th>ticker</th>\n",
       "      <th>AAPL</th>\n",
       "      <th>AXP</th>\n",
       "      <th>BA</th>\n",
       "      <th>CAT</th>\n",
       "      <th>CSCO</th>\n",
       "      <th>CVX</th>\n",
       "      <th>DD</th>\n",
       "      <th>DIS</th>\n",
       "      <th>GE</th>\n",
       "      <th>GS</th>\n",
       "      <th>...</th>\n",
       "      <th>NKE</th>\n",
       "      <th>PFE</th>\n",
       "      <th>PG</th>\n",
       "      <th>TRV</th>\n",
       "      <th>TSLA</th>\n",
       "      <th>UNH</th>\n",
       "      <th>V</th>\n",
       "      <th>VZ</th>\n",
       "      <th>WMT</th>\n",
       "      <th>XOM</th>\n",
       "    </tr>\n",
       "    <tr>\n",
       "      <th>ticker</th>\n",
       "      <th></th>\n",
       "      <th></th>\n",
       "      <th></th>\n",
       "      <th></th>\n",
       "      <th></th>\n",
       "      <th></th>\n",
       "      <th></th>\n",
       "      <th></th>\n",
       "      <th></th>\n",
       "      <th></th>\n",
       "      <th></th>\n",
       "      <th></th>\n",
       "      <th></th>\n",
       "      <th></th>\n",
       "      <th></th>\n",
       "      <th></th>\n",
       "      <th></th>\n",
       "      <th></th>\n",
       "      <th></th>\n",
       "      <th></th>\n",
       "      <th></th>\n",
       "    </tr>\n",
       "  </thead>\n",
       "  <tbody>\n",
       "    <tr>\n",
       "      <th>AAPL</th>\n",
       "      <td>1.000000</td>\n",
       "      <td>0.646050</td>\n",
       "      <td>0.673559</td>\n",
       "      <td>0.564697</td>\n",
       "      <td>0.734032</td>\n",
       "      <td>0.477432</td>\n",
       "      <td>0.560824</td>\n",
       "      <td>0.656185</td>\n",
       "      <td>0.349175</td>\n",
       "      <td>0.642378</td>\n",
       "      <td>...</td>\n",
       "      <td>0.515257</td>\n",
       "      <td>0.566835</td>\n",
       "      <td>0.185964</td>\n",
       "      <td>0.518954</td>\n",
       "      <td>0.339018</td>\n",
       "      <td>0.680676</td>\n",
       "      <td>0.769815</td>\n",
       "      <td>0.071469</td>\n",
       "      <td>0.483077</td>\n",
       "      <td>0.545166</td>\n",
       "    </tr>\n",
       "    <tr>\n",
       "      <th>AXP</th>\n",
       "      <td>0.646050</td>\n",
       "      <td>1.000000</td>\n",
       "      <td>0.551432</td>\n",
       "      <td>0.597585</td>\n",
       "      <td>0.727301</td>\n",
       "      <td>0.594679</td>\n",
       "      <td>0.638189</td>\n",
       "      <td>0.668141</td>\n",
       "      <td>0.288262</td>\n",
       "      <td>0.717048</td>\n",
       "      <td>...</td>\n",
       "      <td>0.485469</td>\n",
       "      <td>0.591275</td>\n",
       "      <td>0.505663</td>\n",
       "      <td>0.610617</td>\n",
       "      <td>0.383275</td>\n",
       "      <td>0.669714</td>\n",
       "      <td>0.768425</td>\n",
       "      <td>0.277343</td>\n",
       "      <td>0.560661</td>\n",
       "      <td>0.598855</td>\n",
       "    </tr>\n",
       "    <tr>\n",
       "      <th>BA</th>\n",
       "      <td>0.673559</td>\n",
       "      <td>0.551432</td>\n",
       "      <td>1.000000</td>\n",
       "      <td>0.632049</td>\n",
       "      <td>0.623420</td>\n",
       "      <td>0.571308</td>\n",
       "      <td>0.564364</td>\n",
       "      <td>0.481870</td>\n",
       "      <td>0.261337</td>\n",
       "      <td>0.549282</td>\n",
       "      <td>...</td>\n",
       "      <td>0.591256</td>\n",
       "      <td>0.439183</td>\n",
       "      <td>0.241142</td>\n",
       "      <td>0.493570</td>\n",
       "      <td>0.223962</td>\n",
       "      <td>0.629390</td>\n",
       "      <td>0.685727</td>\n",
       "      <td>0.054878</td>\n",
       "      <td>0.565699</td>\n",
       "      <td>0.534062</td>\n",
       "    </tr>\n",
       "    <tr>\n",
       "      <th>CAT</th>\n",
       "      <td>0.564697</td>\n",
       "      <td>0.597585</td>\n",
       "      <td>0.632049</td>\n",
       "      <td>1.000000</td>\n",
       "      <td>0.671673</td>\n",
       "      <td>0.604852</td>\n",
       "      <td>0.760665</td>\n",
       "      <td>0.539799</td>\n",
       "      <td>0.180346</td>\n",
       "      <td>0.627769</td>\n",
       "      <td>...</td>\n",
       "      <td>0.612187</td>\n",
       "      <td>0.537021</td>\n",
       "      <td>0.140192</td>\n",
       "      <td>0.529514</td>\n",
       "      <td>0.168254</td>\n",
       "      <td>0.574218</td>\n",
       "      <td>0.680412</td>\n",
       "      <td>-0.015947</td>\n",
       "      <td>0.402268</td>\n",
       "      <td>0.621743</td>\n",
       "    </tr>\n",
       "    <tr>\n",
       "      <th>CSCO</th>\n",
       "      <td>0.734032</td>\n",
       "      <td>0.727301</td>\n",
       "      <td>0.623420</td>\n",
       "      <td>0.671673</td>\n",
       "      <td>1.000000</td>\n",
       "      <td>0.623564</td>\n",
       "      <td>0.608477</td>\n",
       "      <td>0.640439</td>\n",
       "      <td>0.240179</td>\n",
       "      <td>0.671347</td>\n",
       "      <td>...</td>\n",
       "      <td>0.626173</td>\n",
       "      <td>0.688074</td>\n",
       "      <td>0.315397</td>\n",
       "      <td>0.585791</td>\n",
       "      <td>0.358886</td>\n",
       "      <td>0.727611</td>\n",
       "      <td>0.834053</td>\n",
       "      <td>0.253643</td>\n",
       "      <td>0.521875</td>\n",
       "      <td>0.637274</td>\n",
       "    </tr>\n",
       "  </tbody>\n",
       "</table>\n",
       "<p>5 rows × 30 columns</p>\n",
       "</div>"
      ],
      "text/plain": [
       "ticker      AAPL       AXP        BA       CAT      CSCO       CVX        DD  \\\n",
       "ticker                                                                         \n",
       "AAPL    1.000000  0.646050  0.673559  0.564697  0.734032  0.477432  0.560824   \n",
       "AXP     0.646050  1.000000  0.551432  0.597585  0.727301  0.594679  0.638189   \n",
       "BA      0.673559  0.551432  1.000000  0.632049  0.623420  0.571308  0.564364   \n",
       "CAT     0.564697  0.597585  0.632049  1.000000  0.671673  0.604852  0.760665   \n",
       "CSCO    0.734032  0.727301  0.623420  0.671673  1.000000  0.623564  0.608477   \n",
       "\n",
       "ticker       DIS        GE        GS  ...       NKE       PFE        PG  \\\n",
       "ticker                                ...                                 \n",
       "AAPL    0.656185  0.349175  0.642378  ...  0.515257  0.566835  0.185964   \n",
       "AXP     0.668141  0.288262  0.717048  ...  0.485469  0.591275  0.505663   \n",
       "BA      0.481870  0.261337  0.549282  ...  0.591256  0.439183  0.241142   \n",
       "CAT     0.539799  0.180346  0.627769  ...  0.612187  0.537021  0.140192   \n",
       "CSCO    0.640439  0.240179  0.671347  ...  0.626173  0.688074  0.315397   \n",
       "\n",
       "ticker       TRV      TSLA       UNH         V        VZ       WMT       XOM  \n",
       "ticker                                                                        \n",
       "AAPL    0.518954  0.339018  0.680676  0.769815  0.071469  0.483077  0.545166  \n",
       "AXP     0.610617  0.383275  0.669714  0.768425  0.277343  0.560661  0.598855  \n",
       "BA      0.493570  0.223962  0.629390  0.685727  0.054878  0.565699  0.534062  \n",
       "CAT     0.529514  0.168254  0.574218  0.680412 -0.015947  0.402268  0.621743  \n",
       "CSCO    0.585791  0.358886  0.727611  0.834053  0.253643  0.521875  0.637274  \n",
       "\n",
       "[5 rows x 30 columns]"
      ]
     },
     "execution_count": 26,
     "metadata": {},
     "output_type": "execute_result"
    }
   ],
   "source": [
    "df.corr().head()"
   ]
  },
  {
   "cell_type": "code",
   "execution_count": 27,
   "metadata": {},
   "outputs": [
    {
     "data": {
      "text/plain": [
       "<matplotlib.axes._subplots.AxesSubplot at 0x244b8b11488>"
      ]
     },
     "execution_count": 27,
     "metadata": {},
     "output_type": "execute_result"
    },
    {
     "data": {
      "image/png": "[encoded data removed]",
      "text/plain": [
       "<Figure size 432x288 with 1 Axes>"
      ]
     },
     "metadata": {
      "needs_background": "light"
     },
     "output_type": "display_data"
    }
   ],
   "source": [
    "df.corr()['AAPL'].plot(kind='bar')"
   ]
  },
  {
   "cell_type": "code",
   "execution_count": 28,
   "metadata": {},
   "outputs": [
    {
     "data": {
      "text/plain": [
       "<matplotlib.axes._subplots.AxesSubplot at 0x244b8aceac8>"
      ]
     },
     "execution_count": 28,
     "metadata": {},
     "output_type": "execute_result"
    },
    {
     "data": {
      "image/png": "[encoded data removed]",
      "text/plain": [
       "<Figure size 432x288 with 2 Axes>"
      ]
     },
     "metadata": {
      "needs_background": "light"
     },
     "output_type": "display_data"
    }
   ],
   "source": [
    "sns.heatmap(df.corr())"
   ]
  },
  {
   "cell_type": "markdown",
   "metadata": {},
   "source": [
    "### portfolio variance"
   ]
  },
  {
   "cell_type": "markdown",
   "metadata": {},
   "source": [
    "### $$\\sigma^2(R_p) = w_1w_1\\sigma^2(R_1) + w_1w_2COV(R_1,R_2) + w_2w_2\\sigma^2(R_2) + w_2w_1COV(R_1,R_2)$$\n",
    "$$\\sigma^2(R_p) = \\sum_{i=1}^n\\sum_{j=1}^nw_iw_jCOV(R_i, R_j)$$"
   ]
  },
  {
   "cell_type": "code",
   "execution_count": 29,
   "metadata": {},
   "outputs": [],
   "source": [
    "prices = quandl.get_table('SHARADAR/SEP', ticker=['AAPL', 'NKE'], date={'gte':'2000-01-01', 'lte':'2018-12-31'}, paginate=True)"
   ]
  },
  {
   "cell_type": "code",
   "execution_count": 30,
   "metadata": {},
   "outputs": [
    {
     "data": {
      "text/html": [
       "<div>\n",
       "<style scoped>\n",
       "    .dataframe tbody tr th:only-of-type {\n",
       "        vertical-align: middle;\n",
       "    }\n",
       "\n",
       "    .dataframe tbody tr th {\n",
       "        vertical-align: top;\n",
       "    }\n",
       "\n",
       "    .dataframe thead th {\n",
       "        text-align: right;\n",
       "    }\n",
       "</style>\n",
       "<table border=\"1\" class=\"dataframe\">\n",
       "  <thead>\n",
       "    <tr style=\"text-align: right;\">\n",
       "      <th>ticker</th>\n",
       "      <th>AAPL</th>\n",
       "      <th>NKE</th>\n",
       "    </tr>\n",
       "    <tr>\n",
       "      <th>date</th>\n",
       "      <th></th>\n",
       "      <th></th>\n",
       "    </tr>\n",
       "  </thead>\n",
       "  <tbody>\n",
       "    <tr>\n",
       "      <th>2018-09-04</th>\n",
       "      <td>57.090</td>\n",
       "      <td>79.60</td>\n",
       "    </tr>\n",
       "    <tr>\n",
       "      <th>2018-09-05</th>\n",
       "      <td>56.718</td>\n",
       "      <td>79.92</td>\n",
       "    </tr>\n",
       "    <tr>\n",
       "      <th>2018-09-06</th>\n",
       "      <td>55.775</td>\n",
       "      <td>80.40</td>\n",
       "    </tr>\n",
       "    <tr>\n",
       "      <th>2018-09-07</th>\n",
       "      <td>55.325</td>\n",
       "      <td>80.30</td>\n",
       "    </tr>\n",
       "    <tr>\n",
       "      <th>2018-09-10</th>\n",
       "      <td>54.583</td>\n",
       "      <td>82.10</td>\n",
       "    </tr>\n",
       "    <tr>\n",
       "      <th>...</th>\n",
       "      <td>...</td>\n",
       "      <td>...</td>\n",
       "    </tr>\n",
       "    <tr>\n",
       "      <th>2018-12-24</th>\n",
       "      <td>36.708</td>\n",
       "      <td>68.10</td>\n",
       "    </tr>\n",
       "    <tr>\n",
       "      <th>2018-12-26</th>\n",
       "      <td>39.292</td>\n",
       "      <td>73.01</td>\n",
       "    </tr>\n",
       "    <tr>\n",
       "      <th>2018-12-27</th>\n",
       "      <td>39.038</td>\n",
       "      <td>73.67</td>\n",
       "    </tr>\n",
       "    <tr>\n",
       "      <th>2018-12-28</th>\n",
       "      <td>39.057</td>\n",
       "      <td>73.34</td>\n",
       "    </tr>\n",
       "    <tr>\n",
       "      <th>2018-12-31</th>\n",
       "      <td>39.435</td>\n",
       "      <td>74.14</td>\n",
       "    </tr>\n",
       "  </tbody>\n",
       "</table>\n",
       "<p>82 rows × 2 columns</p>\n",
       "</div>"
      ],
      "text/plain": [
       "ticker        AAPL    NKE\n",
       "date                     \n",
       "2018-09-04  57.090  79.60\n",
       "2018-09-05  56.718  79.92\n",
       "2018-09-06  55.775  80.40\n",
       "2018-09-07  55.325  80.30\n",
       "2018-09-10  54.583  82.10\n",
       "...            ...    ...\n",
       "2018-12-24  36.708  68.10\n",
       "2018-12-26  39.292  73.01\n",
       "2018-12-27  39.038  73.67\n",
       "2018-12-28  39.057  73.34\n",
       "2018-12-31  39.435  74.14\n",
       "\n",
       "[82 rows x 2 columns]"
      ]
     },
     "execution_count": 30,
     "metadata": {},
     "output_type": "execute_result"
    }
   ],
   "source": [
    "pivoted = prices.pivot_table(index = 'date', columns = 'ticker', values = 'close')\n",
    "pivoted"
   ]
  },
  {
   "cell_type": "code",
   "execution_count": 31,
   "metadata": {},
   "outputs": [
    {
     "data": {
      "text/html": [
       "<div>\n",
       "<style scoped>\n",
       "    .dataframe tbody tr th:only-of-type {\n",
       "        vertical-align: middle;\n",
       "    }\n",
       "\n",
       "    .dataframe tbody tr th {\n",
       "        vertical-align: top;\n",
       "    }\n",
       "\n",
       "    .dataframe thead th {\n",
       "        text-align: right;\n",
       "    }\n",
       "</style>\n",
       "<table border=\"1\" class=\"dataframe\">\n",
       "  <thead>\n",
       "    <tr style=\"text-align: right;\">\n",
       "      <th>ticker</th>\n",
       "      <th>AAPL</th>\n",
       "      <th>NKE</th>\n",
       "    </tr>\n",
       "    <tr>\n",
       "      <th>ticker</th>\n",
       "      <th></th>\n",
       "      <th></th>\n",
       "    </tr>\n",
       "  </thead>\n",
       "  <tbody>\n",
       "    <tr>\n",
       "      <th>AAPL</th>\n",
       "      <td>0.016705</td>\n",
       "      <td>0.005572</td>\n",
       "    </tr>\n",
       "    <tr>\n",
       "      <th>NKE</th>\n",
       "      <td>0.005572</td>\n",
       "      <td>0.003539</td>\n",
       "    </tr>\n",
       "  </tbody>\n",
       "</table>\n",
       "</div>"
      ],
      "text/plain": [
       "ticker      AAPL       NKE\n",
       "ticker                    \n",
       "AAPL    0.016705  0.005572\n",
       "NKE     0.005572  0.003539"
      ]
     },
     "execution_count": 31,
     "metadata": {},
     "output_type": "execute_result"
    }
   ],
   "source": [
    "cov_matrix = pivoted.apply(lambda x: np.log(1+x)).cov()\n",
    "cov_matrix"
   ]
  },
  {
   "cell_type": "code",
   "execution_count": 32,
   "metadata": {},
   "outputs": [],
   "source": [
    "w = {'AAPL' : 0.75, 'NKE' : 0.25}\n"
   ]
  },
  {
   "cell_type": "code",
   "execution_count": 33,
   "metadata": {},
   "outputs": [
    {
     "data": {
      "text/html": [
       "<div>\n",
       "<style scoped>\n",
       "    .dataframe tbody tr th:only-of-type {\n",
       "        vertical-align: middle;\n",
       "    }\n",
       "\n",
       "    .dataframe tbody tr th {\n",
       "        vertical-align: top;\n",
       "    }\n",
       "\n",
       "    .dataframe thead th {\n",
       "        text-align: right;\n",
       "    }\n",
       "</style>\n",
       "<table border=\"1\" class=\"dataframe\">\n",
       "  <thead>\n",
       "    <tr style=\"text-align: right;\">\n",
       "      <th>ticker</th>\n",
       "      <th>AAPL</th>\n",
       "      <th>NKE</th>\n",
       "    </tr>\n",
       "    <tr>\n",
       "      <th>ticker</th>\n",
       "      <th></th>\n",
       "      <th></th>\n",
       "    </tr>\n",
       "  </thead>\n",
       "  <tbody>\n",
       "    <tr>\n",
       "      <th>AAPL</th>\n",
       "      <td>0.012529</td>\n",
       "      <td>0.004179</td>\n",
       "    </tr>\n",
       "    <tr>\n",
       "      <th>NKE</th>\n",
       "      <td>0.001393</td>\n",
       "      <td>0.000885</td>\n",
       "    </tr>\n",
       "  </tbody>\n",
       "</table>\n",
       "</div>"
      ],
      "text/plain": [
       "ticker      AAPL       NKE\n",
       "ticker                    \n",
       "AAPL    0.012529  0.004179\n",
       "NKE     0.001393  0.000885"
      ]
     },
     "execution_count": 33,
     "metadata": {},
     "output_type": "execute_result"
    }
   ],
   "source": [
    "cov_matrix.mul(w, axis = 0)"
   ]
  },
  {
   "cell_type": "code",
   "execution_count": 34,
   "metadata": {},
   "outputs": [
    {
     "data": {
      "text/plain": [
       "0.011707347152152138"
      ]
     },
     "execution_count": 34,
     "metadata": {},
     "output_type": "execute_result"
    }
   ],
   "source": [
    "p_var = cov_matrix.mul(w, axis = 0).mul(w, axis = 1).sum().sum()\n",
    "p_var"
   ]
  },
  {
   "cell_type": "code",
   "execution_count": 35,
   "metadata": {},
   "outputs": [
    {
     "data": {
      "text/plain": [
       "0.10820049515668649"
      ]
     },
     "execution_count": 35,
     "metadata": {},
     "output_type": "execute_result"
    }
   ],
   "source": [
    "p_sd = np.sqrt(p_var)\n",
    "p_sd"
   ]
  },
  {
   "cell_type": "code",
   "execution_count": 36,
   "metadata": {},
   "outputs": [
    {
     "data": {
      "text/plain": [
       "1.710800043265733"
      ]
     },
     "execution_count": 36,
     "metadata": {},
     "output_type": "execute_result"
    }
   ],
   "source": [
    "annual_p_sd = p_sd * np.sqrt(250)\n",
    "annual_p_sd"
   ]
  },
  {
   "cell_type": "markdown",
   "metadata": {},
   "source": [
    "#### portfolio std with corr() function"
   ]
  },
  {
   "cell_type": "markdown",
   "metadata": {},
   "source": [
    "###$$p(R_i,R_j) = \\frac{COV(R_i, R_j)}{\\sigma_i \\sigma_j}$$\n",
    "$$COV(R_i,R_j) = p(R_i,R_j)\\sigma_i\\sigma_j$$\n",
    "Portfolio Variance\n",
    "$$\\sigma^2(R_p) = w_1^2\\sigma^2(R_1) + w_2^2\\sigma^2(R_2) + 2w_1w_2p(R_i,R_j)\\sigma_i \\sigma_j$$"
   ]
  },
  {
   "cell_type": "code",
   "execution_count": 37,
   "metadata": {},
   "outputs": [
    {
     "data": {
      "text/plain": [
       "ticker\n",
       "AAPL    0.023511\n",
       "AXP     0.016707\n",
       "BA      0.022535\n",
       "CAT     0.024850\n",
       "CSCO    0.019582\n",
       "dtype: float64"
      ]
     },
     "execution_count": 37,
     "metadata": {},
     "output_type": "execute_result"
    }
   ],
   "source": [
    "stds = df.std()\n",
    "stds.head()"
   ]
  },
  {
   "cell_type": "code",
   "execution_count": 39,
   "metadata": {},
   "outputs": [
    {
     "data": {
      "text/html": [
       "<div>\n",
       "<style scoped>\n",
       "    .dataframe tbody tr th:only-of-type {\n",
       "        vertical-align: middle;\n",
       "    }\n",
       "\n",
       "    .dataframe tbody tr th {\n",
       "        vertical-align: top;\n",
       "    }\n",
       "\n",
       "    .dataframe thead th {\n",
       "        text-align: right;\n",
       "    }\n",
       "</style>\n",
       "<table border=\"1\" class=\"dataframe\">\n",
       "  <thead>\n",
       "    <tr style=\"text-align: right;\">\n",
       "      <th>ticker</th>\n",
       "      <th>AAPL</th>\n",
       "      <th>AXP</th>\n",
       "      <th>BA</th>\n",
       "      <th>CAT</th>\n",
       "      <th>CSCO</th>\n",
       "      <th>CVX</th>\n",
       "      <th>DD</th>\n",
       "      <th>DIS</th>\n",
       "      <th>GE</th>\n",
       "      <th>GS</th>\n",
       "      <th>...</th>\n",
       "      <th>NKE</th>\n",
       "      <th>PFE</th>\n",
       "      <th>PG</th>\n",
       "      <th>TRV</th>\n",
       "      <th>TSLA</th>\n",
       "      <th>UNH</th>\n",
       "      <th>V</th>\n",
       "      <th>VZ</th>\n",
       "      <th>WMT</th>\n",
       "      <th>XOM</th>\n",
       "    </tr>\n",
       "    <tr>\n",
       "      <th>ticker</th>\n",
       "      <th></th>\n",
       "      <th></th>\n",
       "      <th></th>\n",
       "      <th></th>\n",
       "      <th></th>\n",
       "      <th></th>\n",
       "      <th></th>\n",
       "      <th></th>\n",
       "      <th></th>\n",
       "      <th></th>\n",
       "      <th></th>\n",
       "      <th></th>\n",
       "      <th></th>\n",
       "      <th></th>\n",
       "      <th></th>\n",
       "      <th></th>\n",
       "      <th></th>\n",
       "      <th></th>\n",
       "      <th></th>\n",
       "      <th></th>\n",
       "      <th></th>\n",
       "    </tr>\n",
       "  </thead>\n",
       "  <tbody>\n",
       "    <tr>\n",
       "      <th>AAPL</th>\n",
       "      <td>1.000000</td>\n",
       "      <td>0.646050</td>\n",
       "      <td>0.673559</td>\n",
       "      <td>0.564697</td>\n",
       "      <td>0.734032</td>\n",
       "      <td>0.477432</td>\n",
       "      <td>0.560824</td>\n",
       "      <td>0.656185</td>\n",
       "      <td>0.349175</td>\n",
       "      <td>0.642378</td>\n",
       "      <td>...</td>\n",
       "      <td>0.515257</td>\n",
       "      <td>0.566835</td>\n",
       "      <td>0.185964</td>\n",
       "      <td>0.518954</td>\n",
       "      <td>0.339018</td>\n",
       "      <td>0.680676</td>\n",
       "      <td>0.769815</td>\n",
       "      <td>0.071469</td>\n",
       "      <td>0.483077</td>\n",
       "      <td>0.545166</td>\n",
       "    </tr>\n",
       "    <tr>\n",
       "      <th>AXP</th>\n",
       "      <td>0.646050</td>\n",
       "      <td>1.000000</td>\n",
       "      <td>0.551432</td>\n",
       "      <td>0.597585</td>\n",
       "      <td>0.727301</td>\n",
       "      <td>0.594679</td>\n",
       "      <td>0.638189</td>\n",
       "      <td>0.668141</td>\n",
       "      <td>0.288262</td>\n",
       "      <td>0.717048</td>\n",
       "      <td>...</td>\n",
       "      <td>0.485469</td>\n",
       "      <td>0.591275</td>\n",
       "      <td>0.505663</td>\n",
       "      <td>0.610617</td>\n",
       "      <td>0.383275</td>\n",
       "      <td>0.669714</td>\n",
       "      <td>0.768425</td>\n",
       "      <td>0.277343</td>\n",
       "      <td>0.560661</td>\n",
       "      <td>0.598855</td>\n",
       "    </tr>\n",
       "    <tr>\n",
       "      <th>BA</th>\n",
       "      <td>0.673559</td>\n",
       "      <td>0.551432</td>\n",
       "      <td>1.000000</td>\n",
       "      <td>0.632049</td>\n",
       "      <td>0.623420</td>\n",
       "      <td>0.571308</td>\n",
       "      <td>0.564364</td>\n",
       "      <td>0.481870</td>\n",
       "      <td>0.261337</td>\n",
       "      <td>0.549282</td>\n",
       "      <td>...</td>\n",
       "      <td>0.591256</td>\n",
       "      <td>0.439183</td>\n",
       "      <td>0.241142</td>\n",
       "      <td>0.493570</td>\n",
       "      <td>0.223962</td>\n",
       "      <td>0.629390</td>\n",
       "      <td>0.685727</td>\n",
       "      <td>0.054878</td>\n",
       "      <td>0.565699</td>\n",
       "      <td>0.534062</td>\n",
       "    </tr>\n",
       "    <tr>\n",
       "      <th>CAT</th>\n",
       "      <td>0.564697</td>\n",
       "      <td>0.597585</td>\n",
       "      <td>0.632049</td>\n",
       "      <td>1.000000</td>\n",
       "      <td>0.671673</td>\n",
       "      <td>0.604852</td>\n",
       "      <td>0.760665</td>\n",
       "      <td>0.539799</td>\n",
       "      <td>0.180346</td>\n",
       "      <td>0.627769</td>\n",
       "      <td>...</td>\n",
       "      <td>0.612187</td>\n",
       "      <td>0.537021</td>\n",
       "      <td>0.140192</td>\n",
       "      <td>0.529514</td>\n",
       "      <td>0.168254</td>\n",
       "      <td>0.574218</td>\n",
       "      <td>0.680412</td>\n",
       "      <td>-0.015947</td>\n",
       "      <td>0.402268</td>\n",
       "      <td>0.621743</td>\n",
       "    </tr>\n",
       "    <tr>\n",
       "      <th>CSCO</th>\n",
       "      <td>0.734032</td>\n",
       "      <td>0.727301</td>\n",
       "      <td>0.623420</td>\n",
       "      <td>0.671673</td>\n",
       "      <td>1.000000</td>\n",
       "      <td>0.623564</td>\n",
       "      <td>0.608477</td>\n",
       "      <td>0.640439</td>\n",
       "      <td>0.240179</td>\n",
       "      <td>0.671347</td>\n",
       "      <td>...</td>\n",
       "      <td>0.626173</td>\n",
       "      <td>0.688074</td>\n",
       "      <td>0.315397</td>\n",
       "      <td>0.585791</td>\n",
       "      <td>0.358886</td>\n",
       "      <td>0.727611</td>\n",
       "      <td>0.834053</td>\n",
       "      <td>0.253643</td>\n",
       "      <td>0.521875</td>\n",
       "      <td>0.637274</td>\n",
       "    </tr>\n",
       "  </tbody>\n",
       "</table>\n",
       "<p>5 rows × 30 columns</p>\n",
       "</div>"
      ],
      "text/plain": [
       "ticker      AAPL       AXP        BA       CAT      CSCO       CVX        DD  \\\n",
       "ticker                                                                         \n",
       "AAPL    1.000000  0.646050  0.673559  0.564697  0.734032  0.477432  0.560824   \n",
       "AXP     0.646050  1.000000  0.551432  0.597585  0.727301  0.594679  0.638189   \n",
       "BA      0.673559  0.551432  1.000000  0.632049  0.623420  0.571308  0.564364   \n",
       "CAT     0.564697  0.597585  0.632049  1.000000  0.671673  0.604852  0.760665   \n",
       "CSCO    0.734032  0.727301  0.623420  0.671673  1.000000  0.623564  0.608477   \n",
       "\n",
       "ticker       DIS        GE        GS  ...       NKE       PFE        PG  \\\n",
       "ticker                                ...                                 \n",
       "AAPL    0.656185  0.349175  0.642378  ...  0.515257  0.566835  0.185964   \n",
       "AXP     0.668141  0.288262  0.717048  ...  0.485469  0.591275  0.505663   \n",
       "BA      0.481870  0.261337  0.549282  ...  0.591256  0.439183  0.241142   \n",
       "CAT     0.539799  0.180346  0.627769  ...  0.612187  0.537021  0.140192   \n",
       "CSCO    0.640439  0.240179  0.671347  ...  0.626173  0.688074  0.315397   \n",
       "\n",
       "ticker       TRV      TSLA       UNH         V        VZ       WMT       XOM  \n",
       "ticker                                                                        \n",
       "AAPL    0.518954  0.339018  0.680676  0.769815  0.071469  0.483077  0.545166  \n",
       "AXP     0.610617  0.383275  0.669714  0.768425  0.277343  0.560661  0.598855  \n",
       "BA      0.493570  0.223962  0.629390  0.685727  0.054878  0.565699  0.534062  \n",
       "CAT     0.529514  0.168254  0.574218  0.680412 -0.015947  0.402268  0.621743  \n",
       "CSCO    0.585791  0.358886  0.727611  0.834053  0.253643  0.521875  0.637274  \n",
       "\n",
       "[5 rows x 30 columns]"
      ]
     },
     "execution_count": 39,
     "metadata": {},
     "output_type": "execute_result"
    }
   ],
   "source": [
    "corr = df.corr()\n",
    "corr.head()"
   ]
  },
  {
   "cell_type": "code",
   "execution_count": 40,
   "metadata": {},
   "outputs": [
    {
     "data": {
      "text/plain": [
       "0.5152571429900105"
      ]
     },
     "execution_count": 40,
     "metadata": {},
     "output_type": "execute_result"
    }
   ],
   "source": [
    "aapl_nke_corr = df['AAPL'].corr(df['NKE'])\n",
    "aapl_nke_corr"
   ]
  },
  {
   "cell_type": "code",
   "execution_count": 41,
   "metadata": {},
   "outputs": [
    {
     "data": {
      "text/plain": [
       "0.0004407844452065827"
      ]
     },
     "execution_count": 41,
     "metadata": {},
     "output_type": "execute_result"
    }
   ],
   "source": [
    "p_var = w['AAPL']**2*stds['AAPL']**2 + w['NKE']**2*stds['NKE']**2 + 2*w['AAPL']*w['NKE']*aapl_nke_corr*stds['AAPL']*stds['NKE']\n",
    "p_var"
   ]
  },
  {
   "cell_type": "code",
   "execution_count": 42,
   "metadata": {},
   "outputs": [
    {
     "data": {
      "text/plain": [
       "0.02099486711571623"
      ]
     },
     "execution_count": 42,
     "metadata": {},
     "output_type": "execute_result"
    }
   ],
   "source": [
    "p_sd = np.sqrt(p_var)\n",
    "p_sd"
   ]
  },
  {
   "cell_type": "code",
   "execution_count": 43,
   "metadata": {},
   "outputs": [
    {
     "data": {
      "text/plain": [
       "0.33195799629116585"
      ]
     },
     "execution_count": 43,
     "metadata": {},
     "output_type": "execute_result"
    }
   ],
   "source": [
    "ann_p_sd = p_sd * np.sqrt(250)\n",
    "ann_p_sd"
   ]
  },
  {
   "cell_type": "markdown",
   "metadata": {},
   "source": [
    "### expected return"
   ]
  },
  {
   "cell_type": "code",
   "execution_count": 84,
   "metadata": {},
   "outputs": [
    {
     "data": {
      "text/html": [
       "<div>\n",
       "<style scoped>\n",
       "    .dataframe tbody tr th:only-of-type {\n",
       "        vertical-align: middle;\n",
       "    }\n",
       "\n",
       "    .dataframe tbody tr th {\n",
       "        vertical-align: top;\n",
       "    }\n",
       "\n",
       "    .dataframe thead th {\n",
       "        text-align: right;\n",
       "    }\n",
       "</style>\n",
       "<table border=\"1\" class=\"dataframe\">\n",
       "  <thead>\n",
       "    <tr style=\"text-align: right;\">\n",
       "      <th>ticker</th>\n",
       "      <th>AAPL</th>\n",
       "      <th>NKE</th>\n",
       "    </tr>\n",
       "    <tr>\n",
       "      <th>date</th>\n",
       "      <th></th>\n",
       "      <th></th>\n",
       "    </tr>\n",
       "  </thead>\n",
       "  <tbody>\n",
       "    <tr>\n",
       "      <th>2018-09-04</th>\n",
       "      <td>57.090</td>\n",
       "      <td>79.60</td>\n",
       "    </tr>\n",
       "    <tr>\n",
       "      <th>2018-09-05</th>\n",
       "      <td>56.718</td>\n",
       "      <td>79.92</td>\n",
       "    </tr>\n",
       "    <tr>\n",
       "      <th>2018-09-06</th>\n",
       "      <td>55.775</td>\n",
       "      <td>80.40</td>\n",
       "    </tr>\n",
       "    <tr>\n",
       "      <th>2018-09-07</th>\n",
       "      <td>55.325</td>\n",
       "      <td>80.30</td>\n",
       "    </tr>\n",
       "    <tr>\n",
       "      <th>2018-09-10</th>\n",
       "      <td>54.583</td>\n",
       "      <td>82.10</td>\n",
       "    </tr>\n",
       "    <tr>\n",
       "      <th>...</th>\n",
       "      <td>...</td>\n",
       "      <td>...</td>\n",
       "    </tr>\n",
       "    <tr>\n",
       "      <th>2018-12-24</th>\n",
       "      <td>36.708</td>\n",
       "      <td>68.10</td>\n",
       "    </tr>\n",
       "    <tr>\n",
       "      <th>2018-12-26</th>\n",
       "      <td>39.292</td>\n",
       "      <td>73.01</td>\n",
       "    </tr>\n",
       "    <tr>\n",
       "      <th>2018-12-27</th>\n",
       "      <td>39.038</td>\n",
       "      <td>73.67</td>\n",
       "    </tr>\n",
       "    <tr>\n",
       "      <th>2018-12-28</th>\n",
       "      <td>39.057</td>\n",
       "      <td>73.34</td>\n",
       "    </tr>\n",
       "    <tr>\n",
       "      <th>2018-12-31</th>\n",
       "      <td>39.435</td>\n",
       "      <td>74.14</td>\n",
       "    </tr>\n",
       "  </tbody>\n",
       "</table>\n",
       "<p>82 rows × 2 columns</p>\n",
       "</div>"
      ],
      "text/plain": [
       "ticker        AAPL    NKE\n",
       "date                     \n",
       "2018-09-04  57.090  79.60\n",
       "2018-09-05  56.718  79.92\n",
       "2018-09-06  55.775  80.40\n",
       "2018-09-07  55.325  80.30\n",
       "2018-09-10  54.583  82.10\n",
       "...            ...    ...\n",
       "2018-12-24  36.708  68.10\n",
       "2018-12-26  39.292  73.01\n",
       "2018-12-27  39.038  73.67\n",
       "2018-12-28  39.057  73.34\n",
       "2018-12-31  39.435  74.14\n",
       "\n",
       "[82 rows x 2 columns]"
      ]
     },
     "execution_count": 84,
     "metadata": {},
     "output_type": "execute_result"
    }
   ],
   "source": [
    "pivoted"
   ]
  },
  {
   "cell_type": "code",
   "execution_count": 98,
   "metadata": {},
   "outputs": [
    {
     "data": {
      "text/plain": [
       "ticker\n",
       "AAPL   -0.110407\n",
       "NKE    -0.042079\n",
       "dtype: float64"
      ]
     },
     "execution_count": 98,
     "metadata": {},
     "output_type": "execute_result"
    }
   ],
   "source": [
    "exp_r = pivoted.resample('M').last().pct_change().mean()\n",
    "exp_r"
   ]
  },
  {
   "cell_type": "code",
   "execution_count": 99,
   "metadata": {},
   "outputs": [
    {
     "data": {
      "text/plain": [
       "-0.0933250025963739"
      ]
     },
     "execution_count": 99,
     "metadata": {},
     "output_type": "execute_result"
    }
   ],
   "source": [
    "exp_r_p = exp_r['AAPL'] * w['AAPL'] + exp_r['NKE'] * w['NKE']\n",
    "exp_r_p"
   ]
  },
  {
   "cell_type": "markdown",
   "metadata": {},
   "source": [
    "### Efficient frontier"
   ]
  },
  {
   "cell_type": "code",
   "execution_count": 119,
   "metadata": {},
   "outputs": [
    {
     "data": {
      "text/html": [
       "<div>\n",
       "<style scoped>\n",
       "    .dataframe tbody tr th:only-of-type {\n",
       "        vertical-align: middle;\n",
       "    }\n",
       "\n",
       "    .dataframe tbody tr th {\n",
       "        vertical-align: top;\n",
       "    }\n",
       "\n",
       "    .dataframe thead th {\n",
       "        text-align: right;\n",
       "    }\n",
       "</style>\n",
       "<table border=\"1\" class=\"dataframe\">\n",
       "  <thead>\n",
       "    <tr style=\"text-align: right;\">\n",
       "      <th>ticker</th>\n",
       "      <th>AAPL</th>\n",
       "      <th>NKE</th>\n",
       "    </tr>\n",
       "    <tr>\n",
       "      <th>ticker</th>\n",
       "      <th></th>\n",
       "      <th></th>\n",
       "    </tr>\n",
       "  </thead>\n",
       "  <tbody>\n",
       "    <tr>\n",
       "      <th>AAPL</th>\n",
       "      <td>0.000553</td>\n",
       "      <td>0.000266</td>\n",
       "    </tr>\n",
       "    <tr>\n",
       "      <th>NKE</th>\n",
       "      <td>0.000266</td>\n",
       "      <td>0.000482</td>\n",
       "    </tr>\n",
       "  </tbody>\n",
       "</table>\n",
       "</div>"
      ],
      "text/plain": [
       "ticker      AAPL       NKE\n",
       "ticker                    \n",
       "AAPL    0.000553  0.000266\n",
       "NKE     0.000266  0.000482"
      ]
     },
     "execution_count": 119,
     "metadata": {},
     "output_type": "execute_result"
    }
   ],
   "source": [
    "cov_matrix = pivoted.pct_change().apply(lambda x: np.log(1+x)).cov()\n",
    "cov_matrix"
   ]
  },
  {
   "cell_type": "code",
   "execution_count": 115,
   "metadata": {},
   "outputs": [
    {
     "data": {
      "text/plain": [
       "ticker\n",
       "AAPL    0.023511\n",
       "NKE     0.021951\n",
       "dtype: float64"
      ]
     },
     "execution_count": 115,
     "metadata": {},
     "output_type": "execute_result"
    }
   ],
   "source": [
    "sd = pivoted.pct_change().apply(lambda x: np.log(1+x)).std()\n",
    "sd"
   ]
  },
  {
   "cell_type": "code",
   "execution_count": 116,
   "metadata": {},
   "outputs": [
    {
     "data": {
      "text/html": [
       "<div>\n",
       "<style scoped>\n",
       "    .dataframe tbody tr th:only-of-type {\n",
       "        vertical-align: middle;\n",
       "    }\n",
       "\n",
       "    .dataframe tbody tr th {\n",
       "        vertical-align: top;\n",
       "    }\n",
       "\n",
       "    .dataframe thead th {\n",
       "        text-align: right;\n",
       "    }\n",
       "</style>\n",
       "<table border=\"1\" class=\"dataframe\">\n",
       "  <thead>\n",
       "    <tr style=\"text-align: right;\">\n",
       "      <th></th>\n",
       "      <th>Returns</th>\n",
       "      <th>Volatility</th>\n",
       "    </tr>\n",
       "    <tr>\n",
       "      <th>ticker</th>\n",
       "      <th></th>\n",
       "      <th></th>\n",
       "    </tr>\n",
       "  </thead>\n",
       "  <tbody>\n",
       "    <tr>\n",
       "      <th>AAPL</th>\n",
       "      <td>-0.110407</td>\n",
       "      <td>0.023511</td>\n",
       "    </tr>\n",
       "    <tr>\n",
       "      <th>NKE</th>\n",
       "      <td>-0.042079</td>\n",
       "      <td>0.021951</td>\n",
       "    </tr>\n",
       "  </tbody>\n",
       "</table>\n",
       "</div>"
      ],
      "text/plain": [
       "         Returns  Volatility\n",
       "ticker                      \n",
       "AAPL   -0.110407    0.023511\n",
       "NKE    -0.042079    0.021951"
      ]
     },
     "execution_count": 116,
     "metadata": {},
     "output_type": "execute_result"
    }
   ],
   "source": [
    "assets = pd.concat([exp_r,sd],axis = 1)\n",
    "assets.columns = ['Returns', 'Volatility']\n",
    "assets"
   ]
  },
  {
   "cell_type": "code",
   "execution_count": 145,
   "metadata": {},
   "outputs": [],
   "source": [
    "p_ret = []\n",
    "p_vol = []\n",
    "p_weights = []\n",
    "num_portfolios = 1"
   ]
  },
  {
   "cell_type": "code",
   "execution_count": 146,
   "metadata": {},
   "outputs": [],
   "source": [
    "for i in range(num_portfolios):\n",
    "    weights = [0.75, 0.25]\n",
    "    p_weights.append(weights)\n",
    "    returns = np.dot(weights, exp_r)\n",
    "    p_ret.append(returns)\n",
    "    var = cov_matrix.mul(weights, axis = 0).mul(weights, axis = 1).sum().sum()\n",
    "    sd = np.sqrt(var)\n",
    "    ann_sd = sd*np.sqrt(30)\n",
    "    p_vol.append(ann_sd)"
   ]
  },
  {
   "cell_type": "code",
   "execution_count": 147,
   "metadata": {},
   "outputs": [],
   "source": [
    "data = {'Returns' : p_ret, 'Volatility': p_vol}"
   ]
  },
  {
   "cell_type": "code",
   "execution_count": 148,
   "metadata": {},
   "outputs": [
    {
     "data": {
      "text/html": [
       "<div>\n",
       "<style scoped>\n",
       "    .dataframe tbody tr th:only-of-type {\n",
       "        vertical-align: middle;\n",
       "    }\n",
       "\n",
       "    .dataframe tbody tr th {\n",
       "        vertical-align: top;\n",
       "    }\n",
       "\n",
       "    .dataframe thead th {\n",
       "        text-align: right;\n",
       "    }\n",
       "</style>\n",
       "<table border=\"1\" class=\"dataframe\">\n",
       "  <thead>\n",
       "    <tr style=\"text-align: right;\">\n",
       "      <th></th>\n",
       "      <th>Returns</th>\n",
       "      <th>Volatility</th>\n",
       "    </tr>\n",
       "  </thead>\n",
       "  <tbody>\n",
       "    <tr>\n",
       "      <th>portfolio 1</th>\n",
       "      <td>-0.093325</td>\n",
       "      <td>0.114994</td>\n",
       "    </tr>\n",
       "  </tbody>\n",
       "</table>\n",
       "</div>"
      ],
      "text/plain": [
       "              Returns  Volatility\n",
       "portfolio 1 -0.093325    0.114994"
      ]
     },
     "execution_count": 148,
     "metadata": {},
     "output_type": "execute_result"
    }
   ],
   "source": [
    "portfolios = pd.DataFrame(data)\n",
    "portfolios.index = ['portfolio 1']\n",
    "portfolios"
   ]
  },
  {
   "cell_type": "code",
   "execution_count": 149,
   "metadata": {},
   "outputs": [
    {
     "data": {
      "text/html": [
       "<div>\n",
       "<style scoped>\n",
       "    .dataframe tbody tr th:only-of-type {\n",
       "        vertical-align: middle;\n",
       "    }\n",
       "\n",
       "    .dataframe tbody tr th {\n",
       "        vertical-align: top;\n",
       "    }\n",
       "\n",
       "    .dataframe thead th {\n",
       "        text-align: right;\n",
       "    }\n",
       "</style>\n",
       "<table border=\"1\" class=\"dataframe\">\n",
       "  <thead>\n",
       "    <tr style=\"text-align: right;\">\n",
       "      <th></th>\n",
       "      <th>Returns</th>\n",
       "      <th>Volatility</th>\n",
       "    </tr>\n",
       "  </thead>\n",
       "  <tbody>\n",
       "    <tr>\n",
       "      <th>AAPL</th>\n",
       "      <td>-0.110407</td>\n",
       "      <td>0.023511</td>\n",
       "    </tr>\n",
       "    <tr>\n",
       "      <th>NKE</th>\n",
       "      <td>-0.042079</td>\n",
       "      <td>0.021951</td>\n",
       "    </tr>\n",
       "    <tr>\n",
       "      <th>portfolio 1</th>\n",
       "      <td>-0.093325</td>\n",
       "      <td>0.114994</td>\n",
       "    </tr>\n",
       "  </tbody>\n",
       "</table>\n",
       "</div>"
      ],
      "text/plain": [
       "              Returns  Volatility\n",
       "AAPL        -0.110407    0.023511\n",
       "NKE         -0.042079    0.021951\n",
       "portfolio 1 -0.093325    0.114994"
      ]
     },
     "execution_count": 149,
     "metadata": {},
     "output_type": "execute_result"
    }
   ],
   "source": [
    "op_space = pd.concat([assets,portfolios],axis = 0)\n",
    "op_space"
   ]
  },
  {
   "cell_type": "code",
   "execution_count": 151,
   "metadata": {},
   "outputs": [
    {
     "data": {
      "text/plain": [
       "<matplotlib.axes._subplots.AxesSubplot at 0x1f1fb590d90>"
      ]
     },
     "execution_count": 151,
     "metadata": {},
     "output_type": "execute_result"
    },
    {
     "data": {
      "image/png": "[encoded data removed]",
      "text/plain": [
       "<Figure size 432x288 with 1 Axes>"
      ]
     },
     "metadata": {
      "needs_background": "light"
     },
     "output_type": "display_data"
    }
   ],
   "source": [
    "op_space.plot.scatter(x= 'Volatility', y = 'Returns',grid = True)"
   ]
  },
  {
   "cell_type": "markdown",
   "metadata": {},
   "source": [
    "#### efficient frontier for 3 assets and and 1000 op_space"
   ]
  },
  {
   "cell_type": "code",
   "execution_count": 196,
   "metadata": {},
   "outputs": [],
   "source": [
    "prices = quandl.get_table('SHARADAR/SEP', ticker=['AAPL', 'KO', 'NKE'], date={'gte':'2000-01-01', 'lte':'2018-12-31'}, paginate=True)"
   ]
  },
  {
   "cell_type": "code",
   "execution_count": 197,
   "metadata": {},
   "outputs": [
    {
     "data": {
      "text/html": [
       "<div>\n",
       "<style scoped>\n",
       "    .dataframe tbody tr th:only-of-type {\n",
       "        vertical-align: middle;\n",
       "    }\n",
       "\n",
       "    .dataframe tbody tr th {\n",
       "        vertical-align: top;\n",
       "    }\n",
       "\n",
       "    .dataframe thead th {\n",
       "        text-align: right;\n",
       "    }\n",
       "</style>\n",
       "<table border=\"1\" class=\"dataframe\">\n",
       "  <thead>\n",
       "    <tr style=\"text-align: right;\">\n",
       "      <th>ticker</th>\n",
       "      <th>AAPL</th>\n",
       "      <th>KO</th>\n",
       "      <th>NKE</th>\n",
       "    </tr>\n",
       "    <tr>\n",
       "      <th>date</th>\n",
       "      <th></th>\n",
       "      <th></th>\n",
       "      <th></th>\n",
       "    </tr>\n",
       "  </thead>\n",
       "  <tbody>\n",
       "    <tr>\n",
       "      <th>2018-09-04</th>\n",
       "      <td>57.090</td>\n",
       "      <td>44.76</td>\n",
       "      <td>79.60</td>\n",
       "    </tr>\n",
       "    <tr>\n",
       "      <th>2018-09-05</th>\n",
       "      <td>56.718</td>\n",
       "      <td>45.38</td>\n",
       "      <td>79.92</td>\n",
       "    </tr>\n",
       "    <tr>\n",
       "      <th>2018-09-06</th>\n",
       "      <td>55.775</td>\n",
       "      <td>45.77</td>\n",
       "      <td>80.40</td>\n",
       "    </tr>\n",
       "    <tr>\n",
       "      <th>2018-09-07</th>\n",
       "      <td>55.325</td>\n",
       "      <td>45.72</td>\n",
       "      <td>80.30</td>\n",
       "    </tr>\n",
       "    <tr>\n",
       "      <th>2018-09-10</th>\n",
       "      <td>54.583</td>\n",
       "      <td>46.06</td>\n",
       "      <td>82.10</td>\n",
       "    </tr>\n",
       "  </tbody>\n",
       "</table>\n",
       "</div>"
      ],
      "text/plain": [
       "ticker        AAPL     KO    NKE\n",
       "date                            \n",
       "2018-09-04  57.090  44.76  79.60\n",
       "2018-09-05  56.718  45.38  79.92\n",
       "2018-09-06  55.775  45.77  80.40\n",
       "2018-09-07  55.325  45.72  80.30\n",
       "2018-09-10  54.583  46.06  82.10"
      ]
     },
     "execution_count": 197,
     "metadata": {},
     "output_type": "execute_result"
    }
   ],
   "source": [
    "pivoted = prices.pivot(index='date', columns='ticker', values='close')\n",
    "pivoted.head()"
   ]
  },
  {
   "cell_type": "code",
   "execution_count": 198,
   "metadata": {},
   "outputs": [
    {
     "data": {
      "text/html": [
       "<div>\n",
       "<style scoped>\n",
       "    .dataframe tbody tr th:only-of-type {\n",
       "        vertical-align: middle;\n",
       "    }\n",
       "\n",
       "    .dataframe tbody tr th {\n",
       "        vertical-align: top;\n",
       "    }\n",
       "\n",
       "    .dataframe thead th {\n",
       "        text-align: right;\n",
       "    }\n",
       "</style>\n",
       "<table border=\"1\" class=\"dataframe\">\n",
       "  <thead>\n",
       "    <tr style=\"text-align: right;\">\n",
       "      <th>ticker</th>\n",
       "      <th>AAPL</th>\n",
       "      <th>KO</th>\n",
       "      <th>NKE</th>\n",
       "    </tr>\n",
       "    <tr>\n",
       "      <th>ticker</th>\n",
       "      <th></th>\n",
       "      <th></th>\n",
       "      <th></th>\n",
       "    </tr>\n",
       "  </thead>\n",
       "  <tbody>\n",
       "    <tr>\n",
       "      <th>AAPL</th>\n",
       "      <td>0.000553</td>\n",
       "      <td>0.000044</td>\n",
       "      <td>0.000266</td>\n",
       "    </tr>\n",
       "    <tr>\n",
       "      <th>KO</th>\n",
       "      <td>0.000044</td>\n",
       "      <td>0.000113</td>\n",
       "      <td>0.000088</td>\n",
       "    </tr>\n",
       "    <tr>\n",
       "      <th>NKE</th>\n",
       "      <td>0.000266</td>\n",
       "      <td>0.000088</td>\n",
       "      <td>0.000482</td>\n",
       "    </tr>\n",
       "  </tbody>\n",
       "</table>\n",
       "</div>"
      ],
      "text/plain": [
       "ticker      AAPL        KO       NKE\n",
       "ticker                              \n",
       "AAPL    0.000553  0.000044  0.000266\n",
       "KO      0.000044  0.000113  0.000088\n",
       "NKE     0.000266  0.000088  0.000482"
      ]
     },
     "execution_count": 198,
     "metadata": {},
     "output_type": "execute_result"
    }
   ],
   "source": [
    "cov_matrix = pivoted.pct_change().apply(lambda x: np.log(1+x)).cov()\n",
    "cov_matrix"
   ]
  },
  {
   "cell_type": "code",
   "execution_count": 199,
   "metadata": {},
   "outputs": [
    {
     "data": {
      "text/plain": [
       "ticker\n",
       "AAPL   -0.004285\n",
       "KO      0.000751\n",
       "NKE    -0.000639\n",
       "dtype: float64"
      ]
     },
     "execution_count": 199,
     "metadata": {},
     "output_type": "execute_result"
    }
   ],
   "source": [
    "e_r = pivoted.pct_change().mean()\n",
    "e_r"
   ]
  },
  {
   "cell_type": "code",
   "execution_count": 200,
   "metadata": {},
   "outputs": [
    {
     "data": {
      "text/plain": [
       "ticker\n",
       "AAPL    0.023511\n",
       "KO      0.010649\n",
       "NKE     0.021951\n",
       "dtype: float64"
      ]
     },
     "execution_count": 200,
     "metadata": {},
     "output_type": "execute_result"
    }
   ],
   "source": [
    "sd = pivoted.pct_change().apply(lambda x: np.log(1+x)).std()\n",
    "sd"
   ]
  },
  {
   "cell_type": "code",
   "execution_count": 201,
   "metadata": {},
   "outputs": [
    {
     "data": {
      "text/html": [
       "<div>\n",
       "<style scoped>\n",
       "    .dataframe tbody tr th:only-of-type {\n",
       "        vertical-align: middle;\n",
       "    }\n",
       "\n",
       "    .dataframe tbody tr th {\n",
       "        vertical-align: top;\n",
       "    }\n",
       "\n",
       "    .dataframe thead th {\n",
       "        text-align: right;\n",
       "    }\n",
       "</style>\n",
       "<table border=\"1\" class=\"dataframe\">\n",
       "  <thead>\n",
       "    <tr style=\"text-align: right;\">\n",
       "      <th></th>\n",
       "      <th>Returns</th>\n",
       "      <th>Volatility</th>\n",
       "    </tr>\n",
       "    <tr>\n",
       "      <th>ticker</th>\n",
       "      <th></th>\n",
       "      <th></th>\n",
       "    </tr>\n",
       "  </thead>\n",
       "  <tbody>\n",
       "    <tr>\n",
       "      <th>AAPL</th>\n",
       "      <td>-0.004285</td>\n",
       "      <td>0.023511</td>\n",
       "    </tr>\n",
       "    <tr>\n",
       "      <th>KO</th>\n",
       "      <td>0.000751</td>\n",
       "      <td>0.010649</td>\n",
       "    </tr>\n",
       "    <tr>\n",
       "      <th>NKE</th>\n",
       "      <td>-0.000639</td>\n",
       "      <td>0.021951</td>\n",
       "    </tr>\n",
       "  </tbody>\n",
       "</table>\n",
       "</div>"
      ],
      "text/plain": [
       "         Returns  Volatility\n",
       "ticker                      \n",
       "AAPL   -0.004285    0.023511\n",
       "KO      0.000751    0.010649\n",
       "NKE    -0.000639    0.021951"
      ]
     },
     "execution_count": 201,
     "metadata": {},
     "output_type": "execute_result"
    }
   ],
   "source": [
    "assets = pd.concat([e_r, sd], axis=1)\n",
    "assets.columns = ['Returns', 'Volatility']\n",
    "assets"
   ]
  },
  {
   "cell_type": "code",
   "execution_count": 202,
   "metadata": {},
   "outputs": [],
   "source": [
    "p_ret = []\n",
    "p_vol = []\n",
    "p_weights = []\n",
    "\n",
    "num_assets = len(pivoted.columns)\n",
    "num_portfolios = 1000"
   ]
  },
  {
   "cell_type": "code",
   "execution_count": 203,
   "metadata": {},
   "outputs": [],
   "source": [
    "for portfolio in range(num_portfolios):\n",
    "    #weights = [.25, .75]\n",
    "    weights = np.random.random(num_assets)\n",
    "    weights = weights/np.sum(weights)\n",
    "    p_weights.append(weights)\n",
    "    returns = np.dot(weights, e_r)\n",
    "    p_ret.append(returns)\n",
    "    var = cov_matrix.mul(weights, axis=0).mul(weights, axis=1).sum().sum()\n",
    "    sd = np.sqrt(var)\n",
    "    ann_sd = sd\n",
    "    p_vol.append(ann_sd)\n"
   ]
  },
  {
   "cell_type": "code",
   "execution_count": 204,
   "metadata": {},
   "outputs": [],
   "source": [
    "data = {'Returns':p_ret, 'Volatility':p_vol}"
   ]
  },
  {
   "cell_type": "code",
   "execution_count": 205,
   "metadata": {},
   "outputs": [],
   "source": [
    "for counter, symbol in enumerate(pivoted.columns.tolist()):\n",
    "    #print(counter, symbol)\n",
    "    data[symbol+' weight'] = [w[counter] for w in p_weights]"
   ]
  },
  {
   "cell_type": "code",
   "execution_count": 206,
   "metadata": {},
   "outputs": [
    {
     "data": {
      "text/html": [
       "<div>\n",
       "<style scoped>\n",
       "    .dataframe tbody tr th:only-of-type {\n",
       "        vertical-align: middle;\n",
       "    }\n",
       "\n",
       "    .dataframe tbody tr th {\n",
       "        vertical-align: top;\n",
       "    }\n",
       "\n",
       "    .dataframe thead th {\n",
       "        text-align: right;\n",
       "    }\n",
       "</style>\n",
       "<table border=\"1\" class=\"dataframe\">\n",
       "  <thead>\n",
       "    <tr style=\"text-align: right;\">\n",
       "      <th></th>\n",
       "      <th>Returns</th>\n",
       "      <th>Volatility</th>\n",
       "      <th>AAPL weight</th>\n",
       "      <th>KO weight</th>\n",
       "      <th>NKE weight</th>\n",
       "    </tr>\n",
       "  </thead>\n",
       "  <tbody>\n",
       "    <tr>\n",
       "      <th>0</th>\n",
       "      <td>-0.002153</td>\n",
       "      <td>0.015126</td>\n",
       "      <td>0.567837</td>\n",
       "      <td>0.400722</td>\n",
       "      <td>0.031441</td>\n",
       "    </tr>\n",
       "    <tr>\n",
       "      <th>1</th>\n",
       "      <td>-0.001321</td>\n",
       "      <td>0.012478</td>\n",
       "      <td>0.405615</td>\n",
       "      <td>0.573206</td>\n",
       "      <td>0.021178</td>\n",
       "    </tr>\n",
       "    <tr>\n",
       "      <th>2</th>\n",
       "      <td>-0.001208</td>\n",
       "      <td>0.018776</td>\n",
       "      <td>0.192267</td>\n",
       "      <td>0.095224</td>\n",
       "      <td>0.712509</td>\n",
       "    </tr>\n",
       "    <tr>\n",
       "      <th>3</th>\n",
       "      <td>0.000651</td>\n",
       "      <td>0.010527</td>\n",
       "      <td>0.015012</td>\n",
       "      <td>0.967344</td>\n",
       "      <td>0.017644</td>\n",
       "    </tr>\n",
       "    <tr>\n",
       "      <th>4</th>\n",
       "      <td>-0.000679</td>\n",
       "      <td>0.014704</td>\n",
       "      <td>0.149760</td>\n",
       "      <td>0.363900</td>\n",
       "      <td>0.486339</td>\n",
       "    </tr>\n",
       "  </tbody>\n",
       "</table>\n",
       "</div>"
      ],
      "text/plain": [
       "    Returns  Volatility  AAPL weight  KO weight  NKE weight\n",
       "0 -0.002153    0.015126     0.567837   0.400722    0.031441\n",
       "1 -0.001321    0.012478     0.405615   0.573206    0.021178\n",
       "2 -0.001208    0.018776     0.192267   0.095224    0.712509\n",
       "3  0.000651    0.010527     0.015012   0.967344    0.017644\n",
       "4 -0.000679    0.014704     0.149760   0.363900    0.486339"
      ]
     },
     "execution_count": 206,
     "metadata": {},
     "output_type": "execute_result"
    }
   ],
   "source": [
    "portfolios  = pd.DataFrame(data)\n",
    "portfolios.head()"
   ]
  },
  {
   "cell_type": "code",
   "execution_count": 207,
   "metadata": {},
   "outputs": [
    {
     "data": {
      "text/plain": [
       "<matplotlib.axes._subplots.AxesSubplot at 0x1f1fbdcd9d0>"
      ]
     },
     "execution_count": 207,
     "metadata": {},
     "output_type": "execute_result"
    },
    {
     "data": {
      "image/png": "[encoded data removed]",
      "text/plain": [
       "<Figure size 432x288 with 1 Axes>"
      ]
     },
     "metadata": {
      "needs_background": "light"
     },
     "output_type": "display_data"
    }
   ],
   "source": [
    "portfolios.plot.scatter(x='Volatility', y='Returns', grid=True)"
   ]
  },
  {
   "cell_type": "code",
   "execution_count": null,
   "metadata": {},
   "outputs": [],
   "source": []
  }
 ],
 "metadata": {
  "kernelspec": {
   "display_name": "Python 3",
   "language": "python",
   "name": "python3"
  },
  "language_info": {
   "codemirror_mode": {
    "name": "ipython",
    "version": 3
   },
   "file_extension": ".py",
   "mimetype": "text/x-python",
   "name": "python",
   "nbconvert_exporter": "python",
   "pygments_lexer": "ipython3",
   "version": "3.7.6"
  }
 },
 "nbformat": 4,
 "nbformat_minor": 4
}
